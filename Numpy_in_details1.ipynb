{
  "cells": [
    {
      "cell_type": "markdown",
      "metadata": {
        "id": "view-in-github",
        "colab_type": "text"
      },
      "source": [
        "<a href=\"https://colab.research.google.com/github/StutiAttri/Python/blob/main/Numpy_in_details1.ipynb\" target=\"_parent\"><img src=\"https://colab.research.google.com/assets/colab-badge.svg\" alt=\"Open In Colab\"/></a>"
      ]
    },
    {
      "cell_type": "markdown",
      "metadata": {
        "id": "FKVkT9hQil1x"
      },
      "source": [
        "# Numpy Array"
      ]
    },
    {
      "cell_type": "markdown",
      "source": [
        "The import numpy as np statement imports the NumPy library and assigns it the alias np. Here are some common methods and attributes from NumPy that might be used in the program:\n",
        "\n",
        "Array Creation:\n",
        "np.array(): Creates a NumPy array from a Python list or tuple.\n",
        "np.zeros(): Creates an array filled with zeros.\n",
        "np.ones(): Creates an array filled with ones.\n",
        "np.arange(): Creates an array with a range of values.\n",
        "np.linspace(): Creates an array with evenly spaced values.\n",
        "\n",
        "Array Manipulation:\n",
        "np.reshape(): Reshapes an array into a specified shape.\n",
        "np.concatenate(): Concatenates arrays along a specified axis.\n",
        "np.split(): Splits an array into multiple sub-arrays.\n",
        "np.transpose(): Transposes an array (rows become columns and vice versa).\n",
        "\n",
        "Array Operations:\n",
        "np.sum(): Computes the sum of array elements.\n",
        "np.mean(): Computes the mean of array elements.\n",
        "np.max(), np.min(): Finds the maximum and minimum values in an array.\n",
        "np.std(): Computes the standard deviation of array elements.\n",
        "\n",
        "Mathematical Functions:\n",
        "np.sin(), np.cos(), np.tan(): Trigonometric functions.\n",
        "np.exp(), np.log(), np.sqrt(): Exponential, logarithmic, and square root functions.\n",
        "np.abs(): Computes the absolute value of array elements.\n",
        "\n",
        "Random Number Generation:\n",
        "np.random.rand(): Generates random numbers from a uniform distribution.\n",
        "np.random.randn(): Generates random numbers from a standard normal distribution.\n",
        "np.random.randint(): Generates random integers within a specified range.\n",
        "\n",
        "Linear Algebra:\n",
        "np.dot(): Computes the dot product of two arrays.\n",
        "np.linalg.inv(): Computes the inverse of a square matrix.\n",
        "np.linalg.eig(): Computes the eigenvalues and eigenvectors of a matrix."
      ],
      "metadata": {
        "id": "LZHSay3MgaV_"
      }
    },
    {
      "cell_type": "code",
      "execution_count": null,
      "metadata": {
        "id": "EhkFlWetil16",
        "outputId": "2dca53c7-1293-43be-d9e7-faca50068241"
      },
      "outputs": [
        {
          "data": {
            "text/plain": [
              "numpy.ndarray"
            ]
          },
          "execution_count": 2,
          "metadata": {},
          "output_type": "execute_result"
        }
      ],
      "source": [
        "import numpy as np\n",
        "type(np.array([\"vbhvh\", 2, 3]))"
      ]
    },
    {
      "cell_type": "code",
      "source": [
        "import numpy as np\n",
        "\n",
        "# Array Creation\n",
        "arr1 = np.array([1, 2, 3, 4, 5])  # Create a NumPy array from a Python list\n",
        "print(\"Array:\", arr1)\n",
        "print(np.array([[1, 2], [3, 4]]))\n",
        "print(np.array([1, 2, 3], ndmin=2))\n",
        "print(np.array([1, 2, 3], dtype=complex))\n",
        "zeros_arr = np.zeros((2, 3))  # Create a 2x3 array filled with zeros\n",
        "print(\"Zeros Array:\")\n",
        "print(zeros_arr)\n",
        "\n",
        "ones_arr = np.ones((3, 2))  # Create a 3x2 array filled with ones\n",
        "print(\"Ones Array:\")\n",
        "print(ones_arr)\n",
        "\n",
        "range_arr = np.arange(0, 100, 2)  # Create an array with values from 0 to 9 with step 2\n",
        "print(\"Range Array:\", range_arr)\n",
        "\n",
        "linspace_arr = np.linspace(0, 1, 5)  # Create an array with 5 evenly spaced values between 0 and 1\n",
        "print(\"Linspace Array:\", linspace_arr)\n",
        "\n",
        "# Array Manipulation\n",
        "arr2 = np.array([[1, 2, 3], [4, 5, 6]])\n",
        "print(\"Original Array:\")\n",
        "print(arr2)\n",
        "\n",
        "reshape_arr = np.reshape(arr2, (3, 2))  # Reshape the array into a 3x2 array\n",
        "print(\"Reshaped Array:\")\n",
        "print(reshape_arr)\n",
        "\n",
        "concat_arr = np.concatenate((arr2, arr2), axis=0)  # Concatenate arrays along rows\n",
        "print(\"Concatenated Array:\")\n",
        "print(concat_arr)\n",
        "\n",
        "# Array Operations\n",
        "print(\"Sum of Array Elements:\", np.sum(arr2))\n",
        "print(\"Mean of Array Elements:\", np.mean(arr2))\n",
        "print(\"Max Value:\", np.max(arr2))\n",
        "print(\"Min Value:\", np.min(arr2))\n",
        "print(\"Standard Deviation:\", np.std(arr2))\n",
        "\n",
        "# Mathematical Functions\n",
        "print(\"Sin of 90 degrees:\", np.sin(np.deg2rad(90)))  # Convert degrees to radians\n",
        "print(\"Exp of 1:\", np.exp(1))\n",
        "print(\"Square Root of 25:\", np.sqrt(25))\n",
        "\n",
        "# Random Number Generation\n",
        "rand_arr = np.random.rand(3, 2)  # Generate a 3x2 array of random numbers from a uniform distribution\n",
        "print(\"Random Array:\")\n",
        "print(rand_arr)\n",
        "\n",
        "randn_arr = np.random.randn(2, 3)  # Generate a 2x3 array of random numbers from a standard normal distribution\n",
        "print(\"Random Normal Array:\")\n",
        "print(randn_arr)\n",
        "\n",
        "randint_arr = np.random.randint(1, 10, size=(2, 3))  # Generate a 2x3 array of random integers between 1 and 10\n",
        "print(\"Random Integer Array:\")\n",
        "print(randint_arr)\n",
        "\n",
        "# Linear Algebra\n",
        "a = np.array([[1, 2], [3, 4]])\n",
        "b = np.array([[5, 6], [7, 8]])\n",
        "dot_product = np.dot(a, b)  # Compute the dot product of two matrices\n",
        "print(\"Dot Product of Matrices:\")\n",
        "print(dot_product)\n",
        "\n",
        "inv_a = np.linalg.inv(a)  # Compute the inverse of matrix 'a'\n",
        "print(\"Inverse of Matrix 'a':\")\n",
        "print(inv_a)\n",
        "\n",
        "eig_val, eig_vec = np.linalg.eig(a)  # Compute the eigenvalues and eigenvectors of matrix 'a'\n",
        "print(\"Eigenvalues:\")\n",
        "print(eig_val)\n",
        "print(\"Eigenvectors:\")\n",
        "print(eig_vec)\n"
      ],
      "metadata": {
        "colab": {
          "base_uri": "https://localhost:8080/"
        },
        "id": "PWiuOMPqguZM",
        "outputId": "353f4a6d-fb38-42b2-e203-2f393a1e4535"
      },
      "execution_count": null,
      "outputs": [
        {
          "output_type": "stream",
          "name": "stdout",
          "text": [
            "Array: [1 2 3 4 5]\n",
            "[[1 2]\n",
            " [3 4]]\n",
            "[[1 2 3]]\n",
            "[1.+0.j 2.+0.j 3.+0.j]\n",
            "Zeros Array:\n",
            "[[0. 0. 0.]\n",
            " [0. 0. 0.]]\n",
            "Ones Array:\n",
            "[[1. 1.]\n",
            " [1. 1.]\n",
            " [1. 1.]]\n",
            "Range Array: [0 2 4 6 8]\n",
            "Linspace Array: [0.   0.25 0.5  0.75 1.  ]\n",
            "Original Array:\n",
            "[[1 2 3]\n",
            " [4 5 6]]\n",
            "Reshaped Array:\n",
            "[[1 2]\n",
            " [3 4]\n",
            " [5 6]]\n",
            "Concatenated Array:\n",
            "[[1 2 3]\n",
            " [4 5 6]\n",
            " [1 2 3]\n",
            " [4 5 6]]\n",
            "Sum of Array Elements: 21\n",
            "Mean of Array Elements: 3.5\n",
            "Max Value: 6\n",
            "Min Value: 1\n",
            "Standard Deviation: 1.707825127659933\n",
            "Sin of 90 degrees: 1.0\n",
            "Exp of 1: 2.718281828459045\n",
            "Square Root of 25: 5.0\n",
            "Random Array:\n",
            "[[0.01378629 0.9874747 ]\n",
            " [0.9442962  0.29933767]\n",
            " [0.52906629 0.09622975]]\n",
            "Random Normal Array:\n",
            "[[-1.55538228 -0.56128116  1.03798011]\n",
            " [-0.63656711 -0.45941195  1.39870204]]\n",
            "Random Integer Array:\n",
            "[[4 3 9]\n",
            " [4 6 4]]\n",
            "Dot Product of Matrices:\n",
            "[[19 22]\n",
            " [43 50]]\n",
            "Inverse of Matrix 'a':\n",
            "[[-2.   1. ]\n",
            " [ 1.5 -0.5]]\n",
            "Eigenvalues:\n",
            "[-0.37228132  5.37228132]\n",
            "Eigenvectors:\n",
            "[[-0.82456484 -0.41597356]\n",
            " [ 0.56576746 -0.90937671]]\n"
          ]
        }
      ]
    },
    {
      "cell_type": "code",
      "execution_count": null,
      "metadata": {
        "id": "xCaULRY3il16"
      },
      "outputs": [],
      "source": [
        "#Upcasting:"
      ]
    },
    {
      "cell_type": "code",
      "execution_count": null,
      "metadata": {
        "id": "GnBa_msRil17",
        "outputId": "32f22cc8-b62b-49aa-af26-a220ba67d729"
      },
      "outputs": [
        {
          "data": {
            "text/plain": [
              "array([1., 2., 3.])"
            ]
          },
          "execution_count": 3,
          "metadata": {},
          "output_type": "execute_result"
        }
      ],
      "source": [
        "np.array([1, 2, 3.0])"
      ]
    },
    {
      "cell_type": "code",
      "execution_count": null,
      "metadata": {
        "id": "6liACqa-il17"
      },
      "outputs": [],
      "source": [
        "#two dimensions"
      ]
    },
    {
      "cell_type": "code",
      "execution_count": null,
      "metadata": {
        "id": "cnv-b0Kdil17",
        "outputId": "7678cfec-014d-4ef3-ae95-39463fe8ab44"
      },
      "outputs": [
        {
          "data": {
            "text/plain": [
              "array([[1, 2],\n",
              "       [3, 4]])"
            ]
          },
          "execution_count": 4,
          "metadata": {},
          "output_type": "execute_result"
        }
      ],
      "source": []
    },
    {
      "cell_type": "code",
      "execution_count": null,
      "metadata": {
        "id": "yR2QmhkLil17"
      },
      "outputs": [],
      "source": [
        "#Minimum dimensions 2:"
      ]
    },
    {
      "cell_type": "code",
      "execution_count": null,
      "metadata": {
        "id": "-toGj83Lil17",
        "outputId": "4eed7429-2878-49cc-e458-6a8920d7696e"
      },
      "outputs": [
        {
          "data": {
            "text/plain": [
              "array([[[[[1, 2, 3]]]]])"
            ]
          },
          "execution_count": 6,
          "metadata": {},
          "output_type": "execute_result"
        }
      ],
      "source": [
        "np.array([1, 2, 3], ndmin=5)"
      ]
    },
    {
      "cell_type": "code",
      "execution_count": null,
      "metadata": {
        "id": "AW6pauVbil17"
      },
      "outputs": [],
      "source": [
        "#dtype"
      ]
    },
    {
      "cell_type": "code",
      "execution_count": null,
      "metadata": {
        "id": "LcAVCf2bil17",
        "outputId": "cfe10cd4-30db-42ad-ea68-4c30ddd24eab"
      },
      "outputs": [
        {
          "data": {
            "text/plain": [
              "array([1.+0.j, 2.+0.j, 3.+0.j])"
            ]
          },
          "execution_count": 7,
          "metadata": {},
          "output_type": "execute_result"
        }
      ],
      "source": [
        " np.array([1, 2, 3], dtype=complex)"
      ]
    },
    {
      "cell_type": "code",
      "execution_count": null,
      "metadata": {
        "id": "X0luPs58il18"
      },
      "outputs": [],
      "source": [
        "#Data-type consisting of more than one element:"
      ]
    },
    {
      "cell_type": "code",
      "execution_count": null,
      "metadata": {
        "id": "axzmxgOIil18",
        "outputId": "820a67c3-00b5-4dce-c0e7-ced02d0de599"
      },
      "outputs": [
        {
          "data": {
            "text/plain": [
              "array([(1, 2), (3, 4)], dtype=[('a', '<i2'), ('b', '<i8')])"
            ]
          },
          "execution_count": 15,
          "metadata": {},
          "output_type": "execute_result"
        }
      ],
      "source": [
        "x = np.array([(1,2),(3,4)],dtype=[('a','<i2'),('b','<i8')])\n",
        "x"
      ]
    },
    {
      "cell_type": "code",
      "execution_count": null,
      "metadata": {
        "id": "wDQBqz7oil18",
        "outputId": "5b81311c-1c91-4009-ac62-5af675e66d0a"
      },
      "outputs": [
        {
          "data": {
            "text/plain": [
              "numpy.int16"
            ]
          },
          "execution_count": 39,
          "metadata": {},
          "output_type": "execute_result"
        }
      ],
      "source": [
        "type(x[1][0])"
      ]
    },
    {
      "cell_type": "code",
      "execution_count": null,
      "metadata": {
        "id": "ScaTH4OCil18"
      },
      "outputs": [],
      "source": [
        "\n",
        "#Creating an array from sub-classes:"
      ]
    },
    {
      "cell_type": "code",
      "execution_count": null,
      "metadata": {
        "id": "WmYwW2htil18",
        "outputId": "f1974333-b9c1-4cb7-d971-14e0258adf49"
      },
      "outputs": [
        {
          "data": {
            "text/plain": [
              "matrix([[1, 2],\n",
              "        [4, 7]])"
            ]
          },
          "execution_count": 17,
          "metadata": {},
          "output_type": "execute_result"
        }
      ],
      "source": [
        "np.mat(np.array([[1, 2],[4,7]]))"
      ]
    },
    {
      "cell_type": "code",
      "execution_count": null,
      "metadata": {
        "id": "oelmvzgiil19",
        "outputId": "d6f9bb39-fe4c-4ce0-9fe1-4f5dce7e104f"
      },
      "outputs": [
        {
          "data": {
            "text/plain": [
              "matrix([[1, 2],\n",
              "        [3, 4]])"
            ]
          },
          "execution_count": 21,
          "metadata": {},
          "output_type": "execute_result"
        }
      ],
      "source": [
        "np.mat('1 2; 3 4')"
      ]
    },
    {
      "cell_type": "markdown",
      "metadata": {
        "id": "DFvQLWmwil19"
      },
      "source": [
        "# numpy.asarray"
      ]
    },
    {
      "cell_type": "code",
      "execution_count": null,
      "metadata": {
        "id": "o3JwyB-bil19"
      },
      "outputs": [],
      "source": [
        "#Convert the input to an array."
      ]
    },
    {
      "cell_type": "code",
      "execution_count": null,
      "metadata": {
        "collapsed": true,
        "id": "-EQ_qjxRil19"
      },
      "outputs": [],
      "source": [
        "#Convert a list into an array:"
      ]
    },
    {
      "cell_type": "code",
      "execution_count": null,
      "metadata": {
        "id": "NWXzAbsJil19",
        "outputId": "61867b44-5460-43fe-c7e4-8e99d65b30bd"
      },
      "outputs": [
        {
          "data": {
            "text/plain": [
              "list"
            ]
          },
          "execution_count": 27,
          "metadata": {},
          "output_type": "execute_result"
        }
      ],
      "source": [
        " a = [1, 2]\n",
        "type(a)"
      ]
    },
    {
      "cell_type": "code",
      "execution_count": null,
      "metadata": {
        "id": "q1JpcMJril19",
        "outputId": "d628d973-6273-4049-ea78-af2e899ded19"
      },
      "outputs": [
        {
          "data": {
            "text/plain": [
              "numpy.ndarray"
            ]
          },
          "execution_count": 25,
          "metadata": {},
          "output_type": "execute_result"
        }
      ],
      "source": [
        "type(np.asarray(a))"
      ]
    },
    {
      "cell_type": "code",
      "execution_count": null,
      "metadata": {
        "id": "At3LNYlZil19",
        "outputId": "bade5222-94d4-45a2-abdd-0f64d8936674"
      },
      "outputs": [
        {
          "data": {
            "text/plain": [
              "numpy.ndarray"
            ]
          },
          "execution_count": 31,
          "metadata": {},
          "output_type": "execute_result"
        }
      ],
      "source": [
        "a = np.array([1, 2]) #Existing arrays are not copied\n",
        "type(a)"
      ]
    },
    {
      "cell_type": "code",
      "execution_count": null,
      "metadata": {
        "id": "AD71GGcCil19",
        "outputId": "5670933e-3872-47b1-ac67-860138f0bbd1"
      },
      "outputs": [
        {
          "data": {
            "text/plain": [
              "array([1, 2])"
            ]
          },
          "execution_count": 42,
          "metadata": {},
          "output_type": "execute_result"
        }
      ],
      "source": [
        "np.asarray((1,2))"
      ]
    },
    {
      "cell_type": "code",
      "execution_count": null,
      "metadata": {
        "collapsed": true,
        "id": "UOTfMkELil1-"
      },
      "outputs": [],
      "source": [
        "#If dtype is set, array is copied only if dtype does not match:"
      ]
    },
    {
      "cell_type": "code",
      "execution_count": null,
      "metadata": {
        "id": "UncagTbEil1-",
        "outputId": "55b1f265-cc90-48b6-ddb2-ab5a9cd912ab"
      },
      "outputs": [
        {
          "data": {
            "text/plain": [
              "array([1., 2.], dtype=float32)"
            ]
          },
          "execution_count": 43,
          "metadata": {},
          "output_type": "execute_result"
        }
      ],
      "source": [
        "a = np.array([1, 2], dtype=np.float32)\n",
        "a"
      ]
    },
    {
      "cell_type": "code",
      "execution_count": null,
      "metadata": {
        "id": "HqDw2juXil1-",
        "outputId": "95f68173-4b53-4ea8-9d58-e634fecf0050"
      },
      "outputs": [
        {
          "data": {
            "text/plain": [
              "False"
            ]
          },
          "execution_count": 33,
          "metadata": {},
          "output_type": "execute_result"
        }
      ],
      "source": [
        "np.asarray([1,2]) is a"
      ]
    },
    {
      "cell_type": "code",
      "execution_count": null,
      "metadata": {
        "id": "ZA9DjIw8il1-",
        "outputId": "c55cde4b-c2b7-4803-df90-8babfdc0d28e"
      },
      "outputs": [
        {
          "data": {
            "text/plain": [
              "array([1, 2])"
            ]
          },
          "execution_count": 36,
          "metadata": {},
          "output_type": "execute_result"
        }
      ],
      "source": [
        "np.asarray([1,2])"
      ]
    },
    {
      "cell_type": "code",
      "execution_count": null,
      "metadata": {
        "id": "MYlyKyPZil1-",
        "outputId": "4302e9b9-71f0-4666-a393-9388a617b493"
      },
      "outputs": [
        {
          "data": {
            "text/plain": [
              "False"
            ]
          },
          "execution_count": 34,
          "metadata": {},
          "output_type": "execute_result"
        }
      ],
      "source": [
        "np.asarray(a, dtype=np.float64) is a"
      ]
    },
    {
      "cell_type": "code",
      "execution_count": null,
      "metadata": {
        "collapsed": true,
        "id": "TeF5jFy3il1-"
      },
      "outputs": [],
      "source": [
        "# ndarray subclasses are not passed through"
      ]
    },
    {
      "cell_type": "code",
      "execution_count": null,
      "metadata": {
        "id": "guzdoB81il1-",
        "outputId": "87a40950-5a17-4c25-c193-47ef94e88d2e"
      },
      "outputs": [
        {
          "data": {
            "text/plain": [
              "True"
            ]
          },
          "execution_count": 44,
          "metadata": {},
          "output_type": "execute_result"
        }
      ],
      "source": [
        "issubclass(np.matrix, np.ndarray)"
      ]
    },
    {
      "cell_type": "code",
      "execution_count": null,
      "metadata": {
        "id": "bhB8Rse_il1-",
        "outputId": "33a09fe3-1ae3-4d96-fb28-af42e03be47d"
      },
      "outputs": [
        {
          "data": {
            "text/plain": [
              "matrix([[1, 2]])"
            ]
          },
          "execution_count": 48,
          "metadata": {},
          "output_type": "execute_result"
        }
      ],
      "source": [
        "a = np.matrix([[1, 2]])\n",
        "np.asanyarray(a)\n"
      ]
    },
    {
      "cell_type": "code",
      "execution_count": null,
      "metadata": {
        "id": "5CrfLdidil1-",
        "outputId": "b1093284-1179-4391-e8f8-a9724eaa45a2"
      },
      "outputs": [
        {
          "data": {
            "text/plain": [
              "False"
            ]
          },
          "execution_count": 49,
          "metadata": {},
          "output_type": "execute_result"
        }
      ],
      "source": [
        "np.asarray(a) is a"
      ]
    },
    {
      "cell_type": "code",
      "execution_count": null,
      "metadata": {
        "id": "FkoG8dDlil1_",
        "outputId": "16cfc315-1ef2-4aa0-8cf8-042c6e0e3e03"
      },
      "outputs": [
        {
          "data": {
            "text/plain": [
              "True"
            ]
          },
          "execution_count": 50,
          "metadata": {},
          "output_type": "execute_result"
        }
      ],
      "source": [
        "np.asanyarray(a) is a"
      ]
    },
    {
      "cell_type": "code",
      "execution_count": null,
      "metadata": {
        "id": "vTvrJRnlil1_",
        "outputId": "5b94a94a-c3e3-4203-9101-2efa6b169d76"
      },
      "outputs": [
        {
          "data": {
            "text/plain": [
              "numpy.ndarray"
            ]
          },
          "execution_count": 51,
          "metadata": {},
          "output_type": "execute_result"
        }
      ],
      "source": [
        "type(np.asarray(a))"
      ]
    },
    {
      "cell_type": "markdown",
      "metadata": {
        "id": "Xhu6FrhBil1_"
      },
      "source": [
        "# numpy.asanyarray"
      ]
    },
    {
      "cell_type": "code",
      "execution_count": null,
      "metadata": {
        "id": "MjsTl-Gyil1_",
        "outputId": "b9393cb6-be69-4657-89db-4791929bcae8"
      },
      "outputs": [
        {
          "data": {
            "text/plain": [
              "array([1, 2])"
            ]
          },
          "execution_count": 50,
          "metadata": {},
          "output_type": "execute_result"
        }
      ],
      "source": [
        "a = [1, 2]\n",
        "np.asanyarray(a)"
      ]
    },
    {
      "cell_type": "code",
      "execution_count": null,
      "metadata": {
        "id": "J6o6J4A1il1_",
        "outputId": "579cfc73-611e-4b9d-98d4-a5f2ec0326a2"
      },
      "outputs": [
        {
          "data": {
            "text/plain": [
              "matrix([[1, 2]])"
            ]
          },
          "execution_count": 86,
          "metadata": {},
          "output_type": "execute_result"
        }
      ],
      "source": [
        "a = np.matrix([1, 2])\n",
        "a"
      ]
    },
    {
      "cell_type": "code",
      "execution_count": null,
      "metadata": {
        "id": "Y1XnKTJ_il1_",
        "outputId": "67721796-0c9c-46c5-cb0f-20d9897a7e4b"
      },
      "outputs": [
        {
          "data": {
            "text/plain": [
              "True"
            ]
          },
          "execution_count": 52,
          "metadata": {},
          "output_type": "execute_result"
        }
      ],
      "source": [
        "np.asanyarray([1,2]) is a"
      ]
    },
    {
      "cell_type": "raw",
      "metadata": {
        "id": "JIpBkChNil1_"
      },
      "source": [
        "#numpy.copy"
      ]
    },
    {
      "cell_type": "code",
      "execution_count": null,
      "metadata": {
        "id": "IU2-YsLlil1_",
        "outputId": "05561228-d259-4843-bbae-fc2c024e8910"
      },
      "outputs": [
        {
          "data": {
            "text/plain": [
              "array([[1, 2]])"
            ]
          },
          "execution_count": 52,
          "metadata": {},
          "output_type": "execute_result"
        }
      ],
      "source": [
        "np.array(a, copy=True)"
      ]
    },
    {
      "cell_type": "code",
      "execution_count": null,
      "metadata": {
        "collapsed": true,
        "id": "ffmwt-QSil2A"
      },
      "outputs": [],
      "source": [
        "#Create an array x, with a reference y and a copy z:"
      ]
    },
    {
      "cell_type": "code",
      "execution_count": null,
      "metadata": {
        "id": "waJTULHlil2A",
        "outputId": "21c6773a-a707-4a29-8c3b-3703e3d785a5"
      },
      "outputs": [
        {
          "data": {
            "text/plain": [
              "array([1, 2, 3])"
            ]
          },
          "execution_count": 56,
          "metadata": {},
          "output_type": "execute_result"
        }
      ],
      "source": [
        "x = np.array([1, 2, 3])\n",
        "x\n",
        "y"
      ]
    },
    {
      "cell_type": "code",
      "execution_count": null,
      "metadata": {
        "id": "jNCkaoPJil2A"
      },
      "outputs": [],
      "source": [
        "y = x"
      ]
    },
    {
      "cell_type": "code",
      "execution_count": null,
      "metadata": {
        "id": "8i0yz2Rlil2A"
      },
      "outputs": [],
      "source": [
        "z = np.copy(x)"
      ]
    },
    {
      "cell_type": "code",
      "execution_count": null,
      "metadata": {
        "id": "HIdmbnV8il2A",
        "outputId": "417e1639-f13d-4fdd-cc0d-9106e2cc312a"
      },
      "outputs": [
        {
          "data": {
            "text/plain": [
              "array([100,   2,   3])"
            ]
          },
          "execution_count": 64,
          "metadata": {},
          "output_type": "execute_result"
        }
      ],
      "source": [
        "y[0] = 100\n",
        "x"
      ]
    },
    {
      "cell_type": "code",
      "execution_count": null,
      "metadata": {
        "id": "nRE9r60Bil2A",
        "outputId": "d164877e-175d-49f0-a4a0-200a1a94f142"
      },
      "outputs": [
        {
          "data": {
            "text/plain": [
              "array([100,   2,   3])"
            ]
          },
          "execution_count": 78,
          "metadata": {},
          "output_type": "execute_result"
        }
      ],
      "source": [
        "x"
      ]
    },
    {
      "cell_type": "code",
      "execution_count": null,
      "metadata": {
        "id": "WhJFv8Cvil2A",
        "outputId": "d732544a-9323-4c9c-a2b2-94047bae669b"
      },
      "outputs": [
        {
          "data": {
            "text/plain": [
              "4767545360"
            ]
          },
          "execution_count": 89,
          "metadata": {},
          "output_type": "execute_result"
        }
      ],
      "source": [
        "id(x[0])"
      ]
    },
    {
      "cell_type": "code",
      "execution_count": null,
      "metadata": {
        "id": "GXRfxM_wil2A",
        "outputId": "ccb6997e-16e5-41c8-903c-9c6f99b714c4"
      },
      "outputs": [
        {
          "data": {
            "text/plain": [
              "4767545408"
            ]
          },
          "execution_count": 91,
          "metadata": {},
          "output_type": "execute_result"
        }
      ],
      "source": [
        "id(y[0])"
      ]
    },
    {
      "cell_type": "code",
      "execution_count": null,
      "metadata": {
        "id": "SweZF8Thil2A"
      },
      "outputs": [],
      "source": []
    },
    {
      "cell_type": "code",
      "execution_count": null,
      "metadata": {
        "id": "9hLiff0iil2A",
        "outputId": "3668f897-0bd2-40d2-c415-a9a478101f34"
      },
      "outputs": [
        {
          "data": {
            "text/plain": [
              "4768156128"
            ]
          },
          "execution_count": 92,
          "metadata": {},
          "output_type": "execute_result"
        }
      ],
      "source": [
        "id(x)"
      ]
    },
    {
      "cell_type": "code",
      "execution_count": null,
      "metadata": {
        "id": "SZVxd9zdil2A",
        "outputId": "8d3f739f-bd4b-4680-9ffd-f831420ed620"
      },
      "outputs": [
        {
          "data": {
            "text/plain": [
              "4768156128"
            ]
          },
          "execution_count": 93,
          "metadata": {},
          "output_type": "execute_result"
        }
      ],
      "source": [
        "id(y)"
      ]
    },
    {
      "cell_type": "markdown",
      "metadata": {
        "id": "2vfeJP8gil2A"
      },
      "source": [
        "# numpy.fromfunction"
      ]
    },
    {
      "cell_type": "code",
      "execution_count": null,
      "metadata": {
        "collapsed": true,
        "id": "K1U2iMPril2B"
      },
      "outputs": [],
      "source": [
        "#Construct an array by executing a function over each coordinate."
      ]
    },
    {
      "cell_type": "code",
      "execution_count": null,
      "metadata": {
        "id": "OqJIAL12il2B",
        "outputId": "7a934563-9e70-4da1-f703-2be50fe81565"
      },
      "outputs": [
        {
          "data": {
            "text/plain": [
              "array([[ True, False, False],\n",
              "       [False,  True, False],\n",
              "       [False, False,  True]])"
            ]
          },
          "execution_count": 94,
          "metadata": {},
          "output_type": "execute_result"
        }
      ],
      "source": [
        "np.fromfunction(lambda i, j: i == j, (3, 3), dtype=int)"
      ]
    },
    {
      "cell_type": "code",
      "execution_count": null,
      "metadata": {
        "id": "p1_4WTtpil2B",
        "outputId": "0dd87b32-4a77-40e8-9cac-2a981552f4fe"
      },
      "outputs": [
        {
          "data": {
            "text/plain": [
              "array([[0, 0, 0],\n",
              "       [0, 1, 2],\n",
              "       [0, 2, 4]])"
            ]
          },
          "execution_count": 119,
          "metadata": {},
          "output_type": "execute_result"
        }
      ],
      "source": [
        "np.fromfunction(lambda i, j: i * j, (3, 3), dtype=int)"
      ]
    },
    {
      "cell_type": "code",
      "execution_count": null,
      "metadata": {
        "collapsed": true,
        "id": "I6jlJSwDil2B"
      },
      "outputs": [],
      "source": [
        "#Create a new 1-dimensional array from an iterable object."
      ]
    },
    {
      "cell_type": "code",
      "execution_count": null,
      "metadata": {
        "id": "2_YD6Dweil2B",
        "outputId": "fd4a5dc9-0d62-401e-89ff-ae8be1306513"
      },
      "outputs": [
        {
          "data": {
            "text/plain": [
              "<generator object <genexpr> at 0x11c326b10>"
            ]
          },
          "execution_count": 97,
          "metadata": {},
          "output_type": "execute_result"
        }
      ],
      "source": [
        "iterable = (x*x for x in range(5))\n",
        "iterable"
      ]
    },
    {
      "cell_type": "code",
      "execution_count": null,
      "metadata": {
        "id": "jGCXB81lil2B",
        "outputId": "f7205b6d-4b7d-4469-8c4c-ebc2caed8719"
      },
      "outputs": [
        {
          "data": {
            "text/plain": [
              "array([ 0.,  1.,  4.,  9., 16.])"
            ]
          },
          "execution_count": 98,
          "metadata": {},
          "output_type": "execute_result"
        }
      ],
      "source": [
        "np.fromiter(iterable, float)"
      ]
    },
    {
      "cell_type": "code",
      "execution_count": null,
      "metadata": {
        "collapsed": true,
        "id": "hU8-0v4_il2B"
      },
      "outputs": [],
      "source": [
        "#A new 1-D array initialized from text data in a string"
      ]
    },
    {
      "cell_type": "code",
      "execution_count": null,
      "metadata": {
        "id": "FE8FpCdMil2C",
        "outputId": "f091ab23-c3ad-4782-e7ae-4fc9278cc4bc"
      },
      "outputs": [
        {
          "data": {
            "text/plain": [
              "array([234., 234.])"
            ]
          },
          "execution_count": 101,
          "metadata": {},
          "output_type": "execute_result"
        }
      ],
      "source": [
        "a = np.fromstring('234 234',sep=' ')\n",
        "a"
      ]
    },
    {
      "cell_type": "code",
      "execution_count": null,
      "metadata": {
        "id": "gNOiWX7dil2C",
        "outputId": "208da1ea-fbb6-4e6f-a470-53081379ddda"
      },
      "outputs": [
        {
          "data": {
            "text/plain": [
              "array([1, 2])"
            ]
          },
          "execution_count": 102,
          "metadata": {},
          "output_type": "execute_result"
        }
      ],
      "source": [
        "np.fromstring('1, 2', dtype=int, sep=',')"
      ]
    },
    {
      "cell_type": "code",
      "execution_count": null,
      "metadata": {
        "collapsed": true,
        "id": "1u2wH3onil2C"
      },
      "outputs": [],
      "source": [
        "# How to create create a record array from a (flat) list of arrays"
      ]
    },
    {
      "cell_type": "code",
      "execution_count": null,
      "metadata": {
        "id": "kbffH_vyil2C"
      },
      "outputs": [],
      "source": [
        "x1=np.array([1,2,3,4])"
      ]
    },
    {
      "cell_type": "code",
      "execution_count": null,
      "metadata": {
        "id": "v_mfFQ25il2C"
      },
      "outputs": [],
      "source": [
        "x2=np.array(['a','dd','xyz','12'])"
      ]
    },
    {
      "cell_type": "code",
      "execution_count": null,
      "metadata": {
        "id": "E9u85mnWil2C",
        "outputId": "1d89db67-d17a-4dd8-d2d8-4cf4a931a0f6"
      },
      "outputs": [
        {
          "data": {
            "text/plain": [
              "numpy.ndarray"
            ]
          },
          "execution_count": 117,
          "metadata": {},
          "output_type": "execute_result"
        }
      ],
      "source": [
        "x3=np.array([1.1,2,3,4])\n",
        "x4=np.array([1.1,2,3,4])\n",
        "type(x4)"
      ]
    },
    {
      "cell_type": "code",
      "execution_count": null,
      "metadata": {
        "id": "TJgtteI_il2C",
        "outputId": "fb3a536f-78cb-418d-beca-3d0d4cc3495d"
      },
      "outputs": [
        {
          "data": {
            "text/plain": [
              "rec.array([(1, 'a', 1.1, 1.1), (2, 'dd', 2. , 2. ), (3, 'xyz', 3. , 3. ),\n",
              "           (4, '12', 4. , 4. )],\n",
              "          dtype=[('a', '<i8'), ('b', '<U3'), ('c', '<f8'), ('d', '<f8')])"
            ]
          },
          "execution_count": 118,
          "metadata": {},
          "output_type": "execute_result"
        }
      ],
      "source": [
        "r = np.core.records.fromarrays([x1,x2,x3,x4],names='a,b,c,d')\n",
        "r"
      ]
    },
    {
      "cell_type": "code",
      "execution_count": null,
      "metadata": {
        "id": "Y-TNDx1Pil2C",
        "outputId": "cffd024f-146d-47e3-89c6-b624f00d0607"
      },
      "outputs": [
        {
          "name": "stdout",
          "output_type": "stream",
          "text": [
            "2\n"
          ]
        }
      ],
      "source": [
        "print(r[1][\"a\"])"
      ]
    },
    {
      "cell_type": "raw",
      "metadata": {
        "id": "BT4-Q4_zil2C"
      },
      "source": [
        "x1[1]=34"
      ]
    },
    {
      "cell_type": "code",
      "execution_count": null,
      "metadata": {
        "id": "cSJCJ5Ykil2D",
        "outputId": "750cf0d1-2bc3-408c-d4a8-a88732606960"
      },
      "outputs": [
        {
          "data": {
            "text/plain": [
              "2"
            ]
          },
          "execution_count": 130,
          "metadata": {},
          "output_type": "execute_result"
        }
      ],
      "source": [
        "x1[1]"
      ]
    },
    {
      "cell_type": "markdown",
      "metadata": {
        "id": "vTHDC8dqil2D"
      },
      "source": [
        "# data types"
      ]
    },
    {
      "cell_type": "code",
      "execution_count": null,
      "metadata": {
        "id": "AIhVw7ukil2D",
        "outputId": "8dce6968-fcbd-446d-cb2a-7a7dda47bb7b"
      },
      "outputs": [
        {
          "name": "stdout",
          "output_type": "stream",
          "text": [
            "Type/Class of this object: <class 'numpy.ndarray'>\n",
            "Here is the vector\n",
            "--------------------\n",
            " [1 2 3]\n"
          ]
        }
      ],
      "source": [
        "my_list = [1,2,3]\n",
        "import numpy as np\n",
        "arr = np.array(my_list)\n",
        "print(\"Type/Class of this object:\",type(arr))\n",
        "print(\"Here is the vector\\n--------------------\\n\",arr)"
      ]
    },
    {
      "cell_type": "code",
      "execution_count": null,
      "metadata": {
        "id": "JKOhgp59il2D",
        "outputId": "59dcbd18-0e81-4e5b-9469-ec5f7bd14fec"
      },
      "outputs": [
        {
          "name": "stdout",
          "output_type": "stream",
          "text": [
            "Type/Class of this object: <class 'numpy.ndarray'>\n",
            "Here is the matrix\n",
            "----------\n",
            " [[1 2 3]\n",
            " [4 5 6]\n",
            " [7 8 9]] \n",
            "----------\n",
            "Dimension of this matrix: 2\n",
            "Size of this matrix: 9\n",
            "Shape of this matrix: (3, 3)\n",
            "Data type of this matrix: int64\n"
          ]
        }
      ],
      "source": [
        "my_mat = [[1,2,3],[4,5,6],[7,8,9]]\n",
        "mat = np.array(my_mat)\n",
        "print(\"Type/Class of this object:\",type(mat))\n",
        "print(\"Here is the matrix\\n----------\\n\",mat,\"\\n----------\")\n",
        "print(\"Dimension of this matrix: \",mat.ndim,sep='') #ndim gives the dimensison, 2 for a matrix, 1 for a vector\n",
        "print(\"Size of this matrix: \", mat.size,sep='') #size gives the total number of elements\n",
        "print(\"Shape of this matrix: \", mat.shape,sep='') #shape gives the number of elements along each axes (dimension)\n",
        "print(\"Data type of this matrix: \", mat.dtype,sep='') #dtype gives the data type contained in the array\n"
      ]
    },
    {
      "cell_type": "code",
      "execution_count": null,
      "metadata": {
        "id": "1rPqI3qCil2D",
        "outputId": "848c00c1-db3f-4b1f-a7a8-d7a5408b2ad4"
      },
      "outputs": [
        {
          "name": "stdout",
          "output_type": "stream",
          "text": [
            "Data type of the modified matrix: float64\n",
            "\n",
            "\n",
            "Even tuples can be converted to ndarrays...\n"
          ]
        }
      ],
      "source": [
        "my_mat = [[1.1,2,3],[4,5.2,6],[7,8.3,9]]\n",
        "mat = np.array(my_mat)\n",
        "print(\"Data type of the modified matrix: \", mat.dtype,sep='') #dtype gives the data type contained in the array\n",
        "print(\"\\n\\nEven tuples can be converted to ndarrays...\")\n"
      ]
    },
    {
      "cell_type": "code",
      "execution_count": null,
      "metadata": {
        "id": "gWd7gwQEil2D",
        "outputId": "3812b94e-4e56-4878-b0ea-be1e15ee575c"
      },
      "outputs": [
        {
          "name": "stdout",
          "output_type": "stream",
          "text": [
            "We write b = np.array([(1.5,2,3), (4,5,6)])\n",
            "Matrix made from tuples, not lists\n",
            "---------------------------------------\n",
            "[[1.5 2.  3. ]\n",
            " [4.  5.  6. ]]\n"
          ]
        }
      ],
      "source": [
        "b = np.array([(1.5,2,3), (4,5,6)])\n",
        "print(\"We write b = np.array([(1.5,2,3), (4,5,6)])\")\n",
        "print(\"Matrix made from tuples, not lists\\n---------------------------------------\")\n",
        "print(b)"
      ]
    },
    {
      "cell_type": "markdown",
      "metadata": {
        "id": "SRESFY-Dil2E"
      },
      "source": [
        "# arange and linspace"
      ]
    },
    {
      "cell_type": "code",
      "execution_count": null,
      "metadata": {
        "id": "srE-2Owmil2E",
        "outputId": "2a9eb12d-9b4f-476c-9d55-91cacd5ba7cf"
      },
      "outputs": [
        {
          "name": "stdout",
          "output_type": "stream",
          "text": [
            "A series of numbers: <class 'numpy.ndarray'>\n"
          ]
        },
        {
          "data": {
            "text/plain": [
              "array([ 5. ,  7.3,  9.6, 11.9, 14.2])"
            ]
          },
          "execution_count": 127,
          "metadata": {},
          "output_type": "execute_result"
        }
      ],
      "source": [
        "print(\"A series of numbers:\",type(np.arange(5,16)))\n",
        "np.arange(5,16,2.3)# A series of numbers from low to high"
      ]
    },
    {
      "cell_type": "code",
      "execution_count": null,
      "metadata": {
        "id": "CQeQSQeUil2E",
        "outputId": "ff0246e2-ac48-4d7a-c819-349673ac1c6e"
      },
      "outputs": [
        {
          "data": {
            "text/plain": [
              "[5, 7, 9, 11, 13, 15]"
            ]
          },
          "execution_count": 128,
          "metadata": {},
          "output_type": "execute_result"
        }
      ],
      "source": [
        "list(range(5,16,2))"
      ]
    },
    {
      "cell_type": "code",
      "execution_count": null,
      "metadata": {
        "id": "bpdZUDMuil2E",
        "outputId": "c430b644-d20c-4d8f-fb6a-058ba7b6931a"
      },
      "outputs": [
        {
          "data": {
            "text/plain": [
              "[]"
            ]
          },
          "execution_count": 129,
          "metadata": {},
          "output_type": "execute_result"
        }
      ],
      "source": [
        "list(range(50,-1,5))"
      ]
    },
    {
      "cell_type": "code",
      "execution_count": null,
      "metadata": {
        "id": "KaxsH_oNil2E",
        "outputId": "bf764f4c-ced7-4050-cf9e-6fd697ad03c1"
      },
      "outputs": [
        {
          "name": "stdout",
          "output_type": "stream",
          "text": [
            "Numbers spaced apart by 2: []\n"
          ]
        }
      ],
      "source": [
        "print(\"Numbers spaced apart by 2:\",np.arange(50,-1,5)) # Numbers spaced apart by 2"
      ]
    },
    {
      "cell_type": "code",
      "execution_count": null,
      "metadata": {
        "id": "dzjeliLUil2E",
        "outputId": "44080a42-3f4a-41ce-bd90-2e27ab757e1a"
      },
      "outputs": [
        {
          "name": "stdout",
          "output_type": "stream",
          "text": [
            "Numbers spaced apart by float: [ 0.   2.5  5.   7.5 10. ]\n"
          ]
        }
      ],
      "source": [
        "print(\"Numbers spaced apart by float:\",np.arange(0,11,2.5)) # Numbers spaced apart by 2.5"
      ]
    },
    {
      "cell_type": "code",
      "execution_count": null,
      "metadata": {
        "id": "pSPTgHeFil2E",
        "outputId": "8b8e5972-74db-4da6-f140-e800f1c507c9"
      },
      "outputs": [
        {
          "name": "stdout",
          "output_type": "stream",
          "text": [
            "Every 5th number from 50 in reverse order\n",
            " [5. 0.]\n"
          ]
        }
      ],
      "source": [
        "print(\"Every 5th number from 50 in reverse order\\n\",np.arange(5.0,-1,-5))"
      ]
    },
    {
      "cell_type": "code",
      "execution_count": null,
      "metadata": {
        "id": "9BLa0NVVil2E",
        "outputId": "f44a949c-4450-4e70-ae09-09ab52500f53"
      },
      "outputs": [
        {
          "name": "stdout",
          "output_type": "stream",
          "text": [
            "21 linearly spaced numbers between 1 and 5\n",
            "--------------------------------------------\n",
            "[1.         1.08163265 1.16326531 1.24489796 1.32653061 1.40816327\n",
            " 1.48979592 1.57142857 1.65306122 1.73469388 1.81632653 1.89795918\n",
            " 1.97959184 2.06122449 2.14285714 2.2244898  2.30612245 2.3877551\n",
            " 2.46938776 2.55102041 2.63265306 2.71428571 2.79591837 2.87755102\n",
            " 2.95918367 3.04081633 3.12244898 3.20408163 3.28571429 3.36734694\n",
            " 3.44897959 3.53061224 3.6122449  3.69387755 3.7755102  3.85714286\n",
            " 3.93877551 4.02040816 4.10204082 4.18367347 4.26530612 4.34693878\n",
            " 4.42857143 4.51020408 4.59183673 4.67346939 4.75510204 4.83673469\n",
            " 4.91836735 5.        ]\n"
          ]
        }
      ],
      "source": [
        "print(\"21 linearly spaced numbers between 1 and 5\\n--------------------------------------------\")\n",
        "print((np.linspace(1,5,50)))"
      ]
    },
    {
      "cell_type": "markdown",
      "metadata": {
        "id": "9FZZVwP2il2E"
      },
      "source": [
        "# Matrix creation"
      ]
    },
    {
      "cell_type": "code",
      "execution_count": null,
      "metadata": {
        "id": "RApcSNtEil2E",
        "outputId": "b818604e-8363-481b-c673-764cb967ba69"
      },
      "outputs": [
        {
          "name": "stdout",
          "output_type": "stream",
          "text": [
            "Vector of zeroes\n",
            "---------------------\n",
            "[0. 0. 0. 0. 0.]\n"
          ]
        }
      ],
      "source": [
        "print(\"Vector of zeroes\\n---------------------\")\n",
        "print(np.zeros(5))"
      ]
    },
    {
      "cell_type": "code",
      "execution_count": null,
      "metadata": {
        "id": "QA4Y4r_Bil2F",
        "outputId": "94ed9829-6e12-4843-a7d4-2e88fb01b210"
      },
      "outputs": [
        {
          "name": "stdout",
          "output_type": "stream",
          "text": [
            "Matrix of zeroes\n",
            "--------------------\n",
            "[[0. 0. 0. 0.]\n",
            " [0. 0. 0. 0.]\n",
            " [0. 0. 0. 0.]]\n"
          ]
        }
      ],
      "source": [
        "print(\"Matrix of zeroes\\n--------------------\")\n",
        "print(np.zeros((3,4))) # Notice Tuples"
      ]
    },
    {
      "cell_type": "code",
      "execution_count": null,
      "metadata": {
        "id": "idxdV1sUil2F",
        "outputId": "ef68b250-5ccb-4ae9-9291-eb27290fb4fb"
      },
      "outputs": [
        {
          "name": "stdout",
          "output_type": "stream",
          "text": [
            "Vector of ones\n",
            "---------------------\n",
            "[1. 1. 1. 1. 1.]\n"
          ]
        }
      ],
      "source": [
        "print(\"Vector of ones\\n---------------------\")\n",
        "print(np.ones(5))"
      ]
    },
    {
      "cell_type": "code",
      "execution_count": null,
      "metadata": {
        "id": "qa-qRqO1il2F",
        "outputId": "450de609-795d-4349-8497-260d76867900"
      },
      "outputs": [
        {
          "name": "stdout",
          "output_type": "stream",
          "text": [
            "Matrix of ones\n",
            "---------------------\n",
            "[[[1. 1. 1. 1. 1. 1. 1. 1.]\n",
            "  [1. 1. 1. 1. 1. 1. 1. 1.]]\n",
            "\n",
            " [[1. 1. 1. 1. 1. 1. 1. 1.]\n",
            "  [1. 1. 1. 1. 1. 1. 1. 1.]]\n",
            "\n",
            " [[1. 1. 1. 1. 1. 1. 1. 1.]\n",
            "  [1. 1. 1. 1. 1. 1. 1. 1.]]\n",
            "\n",
            " [[1. 1. 1. 1. 1. 1. 1. 1.]\n",
            "  [1. 1. 1. 1. 1. 1. 1. 1.]]\n",
            "\n",
            " [[1. 1. 1. 1. 1. 1. 1. 1.]\n",
            "  [1. 1. 1. 1. 1. 1. 1. 1.]]]\n"
          ]
        }
      ],
      "source": [
        "print(\"Matrix of ones\\n---------------------\")\n",
        "print(np.ones((5,2,8))) # Note matrix dimension specified by Tuples\n"
      ]
    },
    {
      "cell_type": "code",
      "execution_count": null,
      "metadata": {
        "id": "3un6icqxil2F",
        "outputId": "7ce48d6f-8432-43ff-f7bd-a531df8dd6d3"
      },
      "outputs": [
        {
          "name": "stdout",
          "output_type": "stream",
          "text": [
            "Matrix of 5's\n",
            "---------------------\n",
            "[[6. 6. 6. 6. 6.]\n",
            " [6. 6. 6. 6. 6.]\n",
            " [6. 6. 6. 6. 6.]]\n"
          ]
        }
      ],
      "source": [
        "print(\"Matrix of 5's\\n---------------------\")\n",
        "print(5+np.ones((3,5)))"
      ]
    },
    {
      "cell_type": "code",
      "execution_count": null,
      "metadata": {
        "id": "ACoIhQ6Jil2F",
        "outputId": "54542f8f-673c-40ac-dfaa-d4b405562219"
      },
      "outputs": [
        {
          "name": "stdout",
          "output_type": "stream",
          "text": [
            "Empty matrix\n",
            "-------------\n",
            " [[6. 6. 6. 6. 6.]\n",
            " [6. 6. 6. 6. 6.]\n",
            " [6. 6. 6. 6. 6.]]\n"
          ]
        }
      ],
      "source": [
        "print(\"Empty matrix\\n-------------\\n\", np.empty((3,5)))"
      ]
    },
    {
      "cell_type": "code",
      "execution_count": null,
      "metadata": {
        "scrolled": true,
        "id": "QxIdew8wil2F",
        "outputId": "a784365a-5661-4f41-f46b-cda7f9e23e91"
      },
      "outputs": [
        {
          "name": "stdout",
          "output_type": "stream",
          "text": [
            "Identity matrix of dimension (4, 4)\n",
            "[[1. 0. 0. 0.]\n",
            " [0. 1. 0. 0.]\n",
            " [0. 0. 1. 0.]\n",
            " [0. 0. 0. 1.]]\n"
          ]
        }
      ],
      "source": [
        "mat1 = np.eye(4)\n",
        "print(\"Identity matrix of dimension\", mat1.shape)\n",
        "print(mat1)"
      ]
    },
    {
      "cell_type": "code",
      "execution_count": null,
      "metadata": {
        "id": "mgJufQUril2F",
        "outputId": "8bf22fdf-5011-40da-d3f9-53d31a11d19c"
      },
      "outputs": [
        {
          "data": {
            "text/plain": [
              "array([0, 1, 2])"
            ]
          },
          "execution_count": 132,
          "metadata": {},
          "output_type": "execute_result"
        }
      ],
      "source": [
        "np.arange(3)"
      ]
    },
    {
      "cell_type": "code",
      "execution_count": null,
      "metadata": {
        "id": "FtzV8R93il2F",
        "outputId": "e79b919f-3af5-4fe2-985e-2339198d02e6"
      },
      "outputs": [
        {
          "data": {
            "text/plain": [
              "array([0., 1., 2.])"
            ]
          },
          "execution_count": 80,
          "metadata": {},
          "output_type": "execute_result"
        }
      ],
      "source": [
        "np.arange(3.0)"
      ]
    },
    {
      "cell_type": "code",
      "execution_count": null,
      "metadata": {
        "id": "jrt2XCqmil2G",
        "outputId": "ca5b127b-6691-4f89-e9a7-859f7dbf7685"
      },
      "outputs": [
        {
          "data": {
            "text/plain": [
              "array([3, 4, 5, 6])"
            ]
          },
          "execution_count": 81,
          "metadata": {},
          "output_type": "execute_result"
        }
      ],
      "source": [
        " np.arange(3,7)"
      ]
    },
    {
      "cell_type": "code",
      "execution_count": null,
      "metadata": {
        "id": "6Wri3DRvil2G",
        "outputId": "de1d1aea-a190-426d-e9bb-5a0c9f6de355"
      },
      "outputs": [
        {
          "data": {
            "text/plain": [
              "array([3, 5])"
            ]
          },
          "execution_count": 82,
          "metadata": {},
          "output_type": "execute_result"
        }
      ],
      "source": [
        "np.arange(3,7,2)"
      ]
    },
    {
      "cell_type": "code",
      "execution_count": null,
      "metadata": {
        "id": "tZj6yHQOil2G",
        "outputId": "9255d539-26dc-4704-a9cd-fd9bad7e4479"
      },
      "outputs": [
        {
          "data": {
            "text/plain": [
              "array([2.  , 2.25, 2.5 , 2.75, 3.  ])"
            ]
          },
          "execution_count": 150,
          "metadata": {},
          "output_type": "execute_result"
        }
      ],
      "source": [
        "np.linspace(2.0, 3.0, num=5)"
      ]
    },
    {
      "cell_type": "code",
      "execution_count": null,
      "metadata": {
        "id": "3XYRt8nVil2G",
        "outputId": "8d0a5f08-a8f9-47ae-f251-30e563ec83d2"
      },
      "outputs": [
        {
          "data": {
            "text/plain": [
              "array([2. , 2.2, 2.4, 2.6, 2.8])"
            ]
          },
          "execution_count": 151,
          "metadata": {},
          "output_type": "execute_result"
        }
      ],
      "source": [
        "np.linspace(2.0, 3.0, num=5, endpoint=False)"
      ]
    },
    {
      "cell_type": "code",
      "execution_count": null,
      "metadata": {
        "id": "bCa2FANUil2G",
        "outputId": "54c33c66-b2de-4819-900a-2fd86a3a1dfb"
      },
      "outputs": [
        {
          "data": {
            "text/plain": [
              "(array([2.   , 2.125, 2.25 , 2.375, 2.5  , 2.625, 2.75 , 2.875, 3.   ]), 0.125)"
            ]
          },
          "execution_count": 153,
          "metadata": {},
          "output_type": "execute_result"
        }
      ],
      "source": [
        "np.linspace(2.0, 3.0, num=9, retstep=True)"
      ]
    },
    {
      "cell_type": "code",
      "execution_count": null,
      "metadata": {
        "id": "bKkkYz-4il2G",
        "outputId": "d48504c0-961a-4f09-8133-a77bde40404f"
      },
      "outputs": [
        {
          "data": {
            "text/plain": [
              "array([2.        , 2.33333333, 2.66666667, 3.        ])"
            ]
          },
          "execution_count": 147,
          "metadata": {},
          "output_type": "execute_result"
        }
      ],
      "source": [
        "#Return numbers spaced evenly on a log scale.\n",
        "np.linspace(2.0, 3.0, num=4)"
      ]
    },
    {
      "cell_type": "code",
      "execution_count": null,
      "metadata": {
        "id": "YZWyPEOfil2G",
        "outputId": "5aa1678b-28ea-421f-f62c-cfe958339050"
      },
      "outputs": [
        {
          "data": {
            "text/plain": [
              "array([ 100.        ,  215.443469  ,  464.15888336, 1000.        ])"
            ]
          },
          "execution_count": 154,
          "metadata": {},
          "output_type": "execute_result"
        }
      ],
      "source": [
        "np.logspace(2.0, 3.0, num=4,base = 10)"
      ]
    },
    {
      "cell_type": "code",
      "execution_count": null,
      "metadata": {
        "id": "j7W3T3ONil2G",
        "outputId": "4745b144-1187-4ad6-8ef2-712c436130d2"
      },
      "outputs": [
        {
          "data": {
            "text/plain": [
              "array([ 100.        ,  177.827941  ,  316.22776602,  562.34132519])"
            ]
          },
          "execution_count": 113,
          "metadata": {},
          "output_type": "execute_result"
        }
      ],
      "source": [
        "np.logspace(2.0, 3.0, num=4, endpoint=False)"
      ]
    },
    {
      "cell_type": "code",
      "execution_count": null,
      "metadata": {
        "id": "7oDKzmW1il2G",
        "outputId": "5dfd437c-506e-46c6-f696-7e9bbc13613f"
      },
      "outputs": [
        {
          "data": {
            "text/plain": [
              "array([4.        , 5.0396842 , 6.34960421, 8.        ])"
            ]
          },
          "execution_count": 155,
          "metadata": {},
          "output_type": "execute_result"
        }
      ],
      "source": [
        "np.logspace(2.0, 3.0, num=4, base=2.0)"
      ]
    },
    {
      "cell_type": "code",
      "execution_count": null,
      "metadata": {
        "collapsed": true,
        "id": "mW1SdW06il2H"
      },
      "outputs": [],
      "source": [
        "#Extract a diagonal or construct a diagonal array."
      ]
    },
    {
      "cell_type": "code",
      "execution_count": null,
      "metadata": {
        "id": "t9bTMxG_il2H"
      },
      "outputs": [],
      "source": [
        "x = np.arange(16).reshape((-1,4))"
      ]
    },
    {
      "cell_type": "code",
      "execution_count": null,
      "metadata": {
        "id": "n7vXdFZOil2H",
        "outputId": "448b0f31-42b3-4d77-981c-8a68131c80ba"
      },
      "outputs": [
        {
          "data": {
            "text/plain": [
              "array([[ 0,  1,  2,  3],\n",
              "       [ 4,  5,  6,  7],\n",
              "       [ 8,  9, 10, 11],\n",
              "       [12, 13, 14, 15]])"
            ]
          },
          "execution_count": 180,
          "metadata": {},
          "output_type": "execute_result"
        }
      ],
      "source": [
        "x"
      ]
    },
    {
      "cell_type": "code",
      "execution_count": null,
      "metadata": {
        "id": "C8peEk4oil2H",
        "outputId": "4b003599-b52b-4b48-d69e-8c51878e3ce4"
      },
      "outputs": [
        {
          "data": {
            "text/plain": [
              "array([ 0,  5, 10, 15])"
            ]
          },
          "execution_count": 172,
          "metadata": {},
          "output_type": "execute_result"
        }
      ],
      "source": [
        "np.diag(x)"
      ]
    },
    {
      "cell_type": "code",
      "execution_count": null,
      "metadata": {
        "id": "_O8ozldnil2H",
        "outputId": "0d95db4c-e1d3-4735-b474-a15b8887c7d4"
      },
      "outputs": [
        {
          "data": {
            "text/plain": [
              "array([2, 7])"
            ]
          },
          "execution_count": 182,
          "metadata": {},
          "output_type": "execute_result"
        }
      ],
      "source": [
        "np.diag(x, k=2\n",
        "       )"
      ]
    },
    {
      "cell_type": "code",
      "execution_count": null,
      "metadata": {
        "id": "J7J6_OiNil2H",
        "outputId": "8cfd611f-ba7e-46d2-bea7-cd8be78d9807"
      },
      "outputs": [
        {
          "data": {
            "text/plain": [
              "array([ 4,  9, 14])"
            ]
          },
          "execution_count": 183,
          "metadata": {},
          "output_type": "execute_result"
        }
      ],
      "source": [
        "np.diag(x, k=-1)"
      ]
    },
    {
      "cell_type": "code",
      "execution_count": null,
      "metadata": {
        "id": "Ws_fx8idil2H",
        "outputId": "8e067b37-f63d-49bd-943d-8212b1652ba3"
      },
      "outputs": [
        {
          "data": {
            "text/plain": [
              "array([[ 0,  0,  0,  0],\n",
              "       [ 0,  5,  0,  0],\n",
              "       [ 0,  0, 10,  0],\n",
              "       [ 0,  0,  0, 15]])"
            ]
          },
          "execution_count": 184,
          "metadata": {},
          "output_type": "execute_result"
        }
      ],
      "source": [
        "np.diag(np.diag(x))"
      ]
    },
    {
      "cell_type": "code",
      "execution_count": null,
      "metadata": {
        "collapsed": true,
        "id": "htczv8Alil2H"
      },
      "outputs": [],
      "source": [
        "#Create a two-dimensional array with the flattened input as a diagonal."
      ]
    },
    {
      "cell_type": "code",
      "execution_count": null,
      "metadata": {
        "id": "MKwZI8tMil2I",
        "outputId": "756e12fc-e848-4184-9db9-170498450b11"
      },
      "outputs": [
        {
          "data": {
            "text/plain": [
              "array([[1, 0, 0, 0],\n",
              "       [0, 2, 0, 0],\n",
              "       [0, 0, 3, 0],\n",
              "       [0, 0, 0, 4]])"
            ]
          },
          "execution_count": 180,
          "metadata": {},
          "output_type": "execute_result"
        }
      ],
      "source": [
        "np.diagflat([[1,2], [3,4]])"
      ]
    },
    {
      "cell_type": "code",
      "execution_count": null,
      "metadata": {
        "id": "66TPgP6Xil2I",
        "outputId": "6347f500-383a-45fd-9c35-34cf4885f74d"
      },
      "outputs": [
        {
          "data": {
            "text/plain": [
              "array([[0, 1, 0],\n",
              "       [0, 0, 2],\n",
              "       [0, 0, 0]])"
            ]
          },
          "execution_count": 124,
          "metadata": {},
          "output_type": "execute_result"
        }
      ],
      "source": [
        "np.diagflat([1,2], 1)"
      ]
    },
    {
      "cell_type": "code",
      "execution_count": null,
      "metadata": {
        "collapsed": true,
        "id": "8lttyN8eil2I"
      },
      "outputs": [],
      "source": [
        "#An array with ones at and below the given diagonal and zeros elsewhere."
      ]
    },
    {
      "cell_type": "code",
      "execution_count": null,
      "metadata": {
        "id": "ZUWNxUaMil2I",
        "outputId": "c71bd26d-e826-4b9c-f8d1-c4bfe3191ca4"
      },
      "outputs": [
        {
          "data": {
            "text/plain": [
              "array([[1, 1, 0, 0, 0],\n",
              "       [1, 1, 1, 0, 0],\n",
              "       [1, 1, 1, 1, 0]])"
            ]
          },
          "execution_count": 187,
          "metadata": {},
          "output_type": "execute_result"
        }
      ],
      "source": [
        "np.tri(3, 5, 1, dtype=int)"
      ]
    },
    {
      "cell_type": "code",
      "execution_count": null,
      "metadata": {
        "id": "HYaH5djAil2I",
        "outputId": "000e98c3-910b-4cd4-fc46-8ee7d3148238"
      },
      "outputs": [
        {
          "data": {
            "text/plain": [
              "array([[0., 0., 0., 0., 0.],\n",
              "       [1., 0., 0., 0., 0.],\n",
              "       [1., 1., 0., 0., 0.]])"
            ]
          },
          "execution_count": 191,
          "metadata": {},
          "output_type": "execute_result"
        }
      ],
      "source": [
        "np.tri(3, 5,k=-1)"
      ]
    },
    {
      "cell_type": "code",
      "execution_count": null,
      "metadata": {
        "collapsed": true,
        "id": "S3eAQhX0il2I"
      },
      "outputs": [],
      "source": [
        "#return a Lower triangle of an array."
      ]
    },
    {
      "cell_type": "code",
      "execution_count": null,
      "metadata": {
        "id": "o1Oji7iuil2I",
        "outputId": "3c7c1750-9eab-4d95-de6f-7d5f880fb1b7"
      },
      "outputs": [
        {
          "data": {
            "text/plain": [
              "array([[1, 0, 0],\n",
              "       [4, 5, 0],\n",
              "       [7, 8, 9]])"
            ]
          },
          "execution_count": 205,
          "metadata": {},
          "output_type": "execute_result"
        }
      ],
      "source": [
        "np.tril([[1,2,3],[4,5,6],[7,8,9]], 0)"
      ]
    },
    {
      "cell_type": "code",
      "execution_count": null,
      "metadata": {
        "collapsed": true,
        "id": "PRD10v1Wil2I"
      },
      "outputs": [],
      "source": [
        "#return Upper triangle of an array."
      ]
    },
    {
      "cell_type": "code",
      "execution_count": null,
      "metadata": {
        "id": "3ntNKSkyil2J",
        "outputId": "b2706eda-ebf3-4152-8ba0-0d162fa98029"
      },
      "outputs": [
        {
          "data": {
            "text/plain": [
              "array([[0, 2, 3],\n",
              "       [0, 0, 6],\n",
              "       [0, 0, 0],\n",
              "       [0, 0, 0]])"
            ]
          },
          "execution_count": 206,
          "metadata": {},
          "output_type": "execute_result"
        }
      ],
      "source": [
        "np.triu([[1,2,3],[4,5,6],[7,8,9],[10,11,12]], 1)"
      ]
    },
    {
      "cell_type": "markdown",
      "metadata": {
        "id": "uX86gyvSil2J"
      },
      "source": [
        "# Random number generation"
      ]
    },
    {
      "cell_type": "code",
      "execution_count": null,
      "metadata": {
        "id": "-i3kouVIil2J",
        "outputId": "a6dde873-ed14-4a93-f61e-6a4856f34ce9"
      },
      "outputs": [
        {
          "name": "stdout",
          "output_type": "stream",
          "text": [
            "Random number generation (from Uniform distribution)\n",
            "[[0.79234365 0.26636652 0.84876143]\n",
            " [0.78766627 0.06627396 0.8829639 ]]\n"
          ]
        }
      ],
      "source": [
        "print(\"Random number generation (from Uniform distribution)\")\n",
        "print(np.random.rand(2,3)) # 2 by 3 matrix with random numbers ranging from 0 to 1, Note no Tuple is necessary"
      ]
    },
    {
      "cell_type": "code",
      "execution_count": null,
      "metadata": {
        "id": "aWl_Tn3Fil2J",
        "outputId": "13275b86-d797-4562-bf89-9239dfad8012"
      },
      "outputs": [
        {
          "name": "stdout",
          "output_type": "stream",
          "text": [
            "Numbers from Normal distribution with zero mean and standard deviation 1 i.e. standard normal\n",
            "[[ 0.08550888  0.73651756  0.08329424]\n",
            " [ 0.75179279  0.42441618  0.47752353]\n",
            " [ 0.23835886  1.06582108 -0.01790105]\n",
            " [ 0.48190152 -0.24940656 -0.44992115]]\n"
          ]
        }
      ],
      "source": [
        "print(\"Numbers from Normal distribution with zero mean and standard deviation 1 i.e. standard normal\")\n",
        "print(np.random.randn(4,3))"
      ]
    },
    {
      "cell_type": "code",
      "execution_count": null,
      "metadata": {
        "id": "DRpaJ2m1il2J",
        "outputId": "5cce025c-11ce-439a-bb1b-291f05a9cc24"
      },
      "outputs": [
        {
          "name": "stdout",
          "output_type": "stream",
          "text": [
            "Random integer vector: 4\n",
            "\n",
            "Random integer matrix\n"
          ]
        }
      ],
      "source": [
        "print(\"Random integer vector:\",np.random.randint(1,10)) #randint (low, high, # of samples to be drawn)\n",
        "print (\"\\nRandom integer matrix\")\n"
      ]
    },
    {
      "cell_type": "code",
      "execution_count": null,
      "metadata": {
        "id": "CiRnnVvtil2J",
        "outputId": "215f3f91-d940-47f1-d80d-c30d17a4d5c1"
      },
      "outputs": [
        {
          "name": "stdout",
          "output_type": "stream",
          "text": [
            "[[28 90 28 25]\n",
            " [14 51 32 98]\n",
            " [10 98 11 71]\n",
            " [12 42 54 77]]\n",
            "\n",
            "20 samples drawn from a dice throw: [1 6 2 1 1 1 5 2 5 1 1 5 5 1 6 6 5 4 1 1]\n"
          ]
        }
      ],
      "source": [
        "print(np.random.randint(1,100,(4,4))) #randint (low, high, # of samples to be drawn in a tuple to form a matrix)\n",
        "print(\"\\n20 samples drawn from a dice throw:\",np.random.randint(1,7,20)) # 20 samples drawn from a dice throw"
      ]
    },
    {
      "cell_type": "markdown",
      "metadata": {
        "id": "tHr3Oa4Sil2J"
      },
      "source": [
        "# Reshaping"
      ]
    },
    {
      "cell_type": "code",
      "execution_count": null,
      "metadata": {
        "id": "HN4kreg_il2J",
        "outputId": "8afb5130-78ff-4f5d-cf3c-fb55f21c0fbf"
      },
      "outputs": [
        {
          "data": {
            "text/plain": [
              "array([[51, 63, 51, 54, 96],\n",
              "       [11, 93,  2, 51, 34],\n",
              "       [62, 35, 42, 95, 58],\n",
              "       [88, 44, 36, 93, 83],\n",
              "       [86, 56, 30,  2, 15],\n",
              "       [68, 40, 77, 48, 57]])"
            ]
          },
          "execution_count": 211,
          "metadata": {},
          "output_type": "execute_result"
        }
      ],
      "source": [
        "from numpy.random import randint as ri\n",
        "a = ri(1,100,30)\n",
        "b = a.reshape(2,3,5)\n",
        "c = a.reshape(6,-19878)\n",
        "c"
      ]
    },
    {
      "cell_type": "code",
      "execution_count": null,
      "metadata": {
        "id": "3QZbswgkil2K",
        "outputId": "ceab8708-9708-4465-c0bd-368b85260bfb"
      },
      "outputs": [
        {
          "name": "stdout",
          "output_type": "stream",
          "text": [
            "Shape of a: (30,)\n",
            "Shape of b: (2, 3, 5)\n",
            "Shape of c: (6, 5)\n"
          ]
        }
      ],
      "source": [
        "print (\"Shape of a:\", a.shape)\n",
        "print (\"Shape of b:\", b.shape)\n",
        "print (\"Shape of c:\", c.shape)\n"
      ]
    },
    {
      "cell_type": "code",
      "execution_count": null,
      "metadata": {
        "id": "FIR8WSC0il2K",
        "outputId": "b075145b-6c6a-4402-ce48-f70a28e7bfb0"
      },
      "outputs": [
        {
          "name": "stdout",
          "output_type": "stream",
          "text": [
            "\n",
            "a looks like\n",
            " -------------------- \n",
            " [72 69 61 67 42  2 92 42 38 56 22 71 21 81 81 47  2  1  6 94 52 14 87 71\n",
            " 38 57 99 87 62 88] \n",
            " --------------------\n",
            "\n",
            "b looks like\n",
            " -------------------- \n",
            " [[[72 69 61 67 42]\n",
            "  [ 2 92 42 38 56]\n",
            "  [22 71 21 81 81]]\n",
            "\n",
            " [[47  2  1  6 94]\n",
            "  [52 14 87 71 38]\n",
            "  [57 99 87 62 88]]] \n",
            " --------------------\n",
            "\n",
            "c looks like\n",
            " -------------------- \n",
            " [[72 69 61 67 42]\n",
            " [ 2 92 42 38 56]\n",
            " [22 71 21 81 81]\n",
            " [47  2  1  6 94]\n",
            " [52 14 87 71 38]\n",
            " [57 99 87 62 88]] \n",
            " --------------------\n"
          ]
        }
      ],
      "source": [
        "print(\"\\na looks like\\n\",'-'*20,\"\\n\",a,\"\\n\",'-'*20)\n",
        "print(\"\\nb looks like\\n\",'-'*20,\"\\n\",b,\"\\n\",'-'*20)\n",
        "print(\"\\nc looks like\\n\",'-'*20,\"\\n\",c,\"\\n\",'-'*20)\n"
      ]
    },
    {
      "cell_type": "code",
      "execution_count": null,
      "metadata": {
        "id": "rJ852RfHil2K",
        "outputId": "213b476c-6d60-4f5b-d7a6-72bd6778286e"
      },
      "outputs": [
        {
          "name": "stdout",
          "output_type": "stream",
          "text": [
            "\n",
            "Vector of random integers\n",
            " -------------------------------------------------- \n",
            " [69 99 45 72 41 16 50 80 80 22]\n",
            "\n",
            "Here is the sorted vector\n",
            " -------------------------------------------------- \n",
            " [16 22 41 45 50 69 72 80 80 99]\n"
          ]
        }
      ],
      "source": [
        "A = ri(1,100,10) # Vector of random interegrs\n",
        "print(\"\\nVector of random integers\\n\",'-'*50,\"\\n\",A)\n",
        "print(\"\\nHere is the sorted vector\\n\",'-'*50,\"\\n\",np.sort(A))\n"
      ]
    },
    {
      "cell_type": "code",
      "execution_count": null,
      "metadata": {
        "id": "WNVbsYf1il2K",
        "outputId": "8da5fbc2-df47-4102-80fe-34b24175e274"
      },
      "outputs": [
        {
          "name": "stdout",
          "output_type": "stream",
          "text": [
            "\n",
            "Here is the sorted matrix along each column\n",
            " -------------------------------------------------- \n",
            " [[18 25 38 73 94]\n",
            " [18 42 75 79 91]\n",
            " [21 44 62 78 85]\n",
            " [15 17 44 89 91]\n",
            " [ 3 24 38 62 86]]\n"
          ]
        },
        {
          "data": {
            "text/plain": [
              "array([[18, 94, 25, 38, 73],\n",
              "       [75, 42, 79, 18, 91],\n",
              "       [21, 44, 85, 78, 62],\n",
              "       [91, 15, 17, 44, 89],\n",
              "       [62, 38,  3, 24, 86]])"
            ]
          },
          "execution_count": 221,
          "metadata": {},
          "output_type": "execute_result"
        }
      ],
      "source": [
        "M = ri(1,100,25).reshape(5,5) # Matrix of random interegrs\n",
        "#print(\"\\nHere is the sorted matrix along each row\\n\",'-'*50,\"\\n\",np.sort(M, kind='mergesort')) # Default axis =1\n",
        "print(\"\\nHere is the sorted matrix along each column\\n\",'-'*50,\"\\n\",np.sort(M, axis=1, kind='mergesort'))\n",
        "M"
      ]
    },
    {
      "cell_type": "code",
      "execution_count": null,
      "metadata": {
        "id": "0KluKxCBil2K",
        "outputId": "e8143aca-bc08-4997-8dbb-5edb56b0bd61"
      },
      "outputs": [
        {
          "name": "stdout",
          "output_type": "stream",
          "text": [
            "Max of a: 99\n",
            "Max of b: 96\n"
          ]
        },
        {
          "data": {
            "text/plain": [
              "array([[[51, 63, 51, 54, 96],\n",
              "        [11, 93,  2, 51, 34],\n",
              "        [62, 35, 42, 95, 58]],\n",
              "\n",
              "       [[88, 44, 36, 93, 83],\n",
              "        [86, 56, 30,  2, 15],\n",
              "        [68, 40, 77, 48, 57]]])"
            ]
          },
          "execution_count": 214,
          "metadata": {},
          "output_type": "execute_result"
        }
      ],
      "source": [
        "print(\"Max of a:\", M.max())\n",
        "print(\"Max of b:\", b.max())\n",
        "b"
      ]
    },
    {
      "cell_type": "code",
      "execution_count": null,
      "metadata": {
        "id": "BicayVwoil2K",
        "outputId": "46cec5e0-55a6-472b-8ffa-c9cd4b9449c7"
      },
      "outputs": [
        {
          "data": {
            "text/plain": [
              "array([[46, 88, 23, 66, 57],\n",
              "       [50, 90, 30, 46, 36],\n",
              "       [31, 19, 42, 23, 31],\n",
              "       [ 4, 44, 86, 10, 81],\n",
              "       [73, 35, 30, 99, 43]])"
            ]
          },
          "execution_count": 217,
          "metadata": {},
          "output_type": "execute_result"
        }
      ],
      "source": [
        "M"
      ]
    },
    {
      "cell_type": "code",
      "execution_count": null,
      "metadata": {
        "id": "p2Yay2-bil2K",
        "outputId": "ca7da720-eeb8-4086-a409-445fb0ca281d"
      },
      "outputs": [
        {
          "name": "stdout",
          "output_type": "stream",
          "text": [
            "Max of a location: [1 1 2 2 3]\n",
            "Max of b location: 4\n",
            "Max of c location: 4\n"
          ]
        }
      ],
      "source": [
        "print(\"Max of a location:\", M.argmax(axis= 1 ))\n",
        "print(\"Max of b location:\", b.argmax())\n",
        "print(\"Max of c location:\", b.argmax())"
      ]
    },
    {
      "cell_type": "markdown",
      "metadata": {
        "id": "M9JMkslHil2K"
      },
      "source": [
        "# Indexing and slicing"
      ]
    },
    {
      "cell_type": "code",
      "execution_count": null,
      "metadata": {
        "id": "Uq4zbQtiil2K",
        "outputId": "9a7cd76b-3161-4a2c-b224-9974a1697d10"
      },
      "outputs": [
        {
          "name": "stdout",
          "output_type": "stream",
          "text": [
            "Array: [ 0  1  2  3  4  5  6  7  8  9 10]\n"
          ]
        }
      ],
      "source": [
        "arr = np.arange(0,11)\n",
        "print(\"Array:\",arr)\n"
      ]
    },
    {
      "cell_type": "code",
      "execution_count": null,
      "metadata": {
        "id": "n7jpBf__il2L",
        "outputId": "e710226f-064b-4f88-caae-806c72681d3a"
      },
      "outputs": [
        {
          "name": "stdout",
          "output_type": "stream",
          "text": [
            "Element at 7th index is: 7\n"
          ]
        }
      ],
      "source": [
        "print(\"Element at 7th index is:\", arr[7])\n"
      ]
    },
    {
      "cell_type": "code",
      "execution_count": null,
      "metadata": {
        "id": "1Mwrs_S0il2L",
        "outputId": "ebfc898b-0bd3-4c07-e304-89a96c7392b8"
      },
      "outputs": [
        {
          "name": "stdout",
          "output_type": "stream",
          "text": [
            "Elements from 3rd to 5th index are: [3 5]\n"
          ]
        }
      ],
      "source": [
        "print(\"Elements from 3rd to 5th index are:\", arr[3:6:2])\n"
      ]
    },
    {
      "cell_type": "code",
      "execution_count": null,
      "metadata": {
        "id": "eC6ugHGxil2L",
        "outputId": "d996597e-b05d-45d4-bb4e-95ccfe0d7b69"
      },
      "outputs": [
        {
          "name": "stdout",
          "output_type": "stream",
          "text": [
            "Elements up to 4th index are: [0 1 2 3]\n"
          ]
        },
        {
          "data": {
            "text/plain": [
              "array([ 0,  1,  2,  3,  4,  5,  6,  7,  8,  9, 10])"
            ]
          },
          "execution_count": 231,
          "metadata": {},
          "output_type": "execute_result"
        }
      ],
      "source": [
        "print(\"Elements up to 4th index are:\", arr[:4])\n",
        "arr"
      ]
    },
    {
      "cell_type": "code",
      "execution_count": null,
      "metadata": {
        "id": "XvyY_QRPil2L",
        "outputId": "09c3e0d0-b3d1-4c77-a448-ef3d1fb841c5"
      },
      "outputs": [
        {
          "name": "stdout",
          "output_type": "stream",
          "text": [
            "Elements from last backwards are: [10  9  8]\n"
          ]
        }
      ],
      "source": [
        "print(\"Elements from last backwards are:\", arr[-1:7:-1])\n"
      ]
    },
    {
      "cell_type": "code",
      "execution_count": null,
      "metadata": {
        "id": "kpMNuXxUil2L",
        "outputId": "949ffbab-f8de-4f77-b300-8faee52de842"
      },
      "outputs": [
        {
          "name": "stdout",
          "output_type": "stream",
          "text": [
            "3 Elements from last backwards are: []\n"
          ]
        }
      ],
      "source": [
        "print(\"3 Elements from last backwards are:\", arr[-1:-6:2])\n"
      ]
    },
    {
      "cell_type": "code",
      "execution_count": null,
      "metadata": {
        "id": "Z1xfe5rEil2L",
        "outputId": "217a855f-d5e4-4d05-a37a-63a1c09ef9e3"
      },
      "outputs": [
        {
          "name": "stdout",
          "output_type": "stream",
          "text": [
            "New array: [ 0  2  4  6  8 10 12 14 16 18 20]\n"
          ]
        }
      ],
      "source": [
        "arr = np.arange(0,21,2)\n",
        "print(\"New array:\",arr)\n"
      ]
    },
    {
      "cell_type": "code",
      "execution_count": null,
      "metadata": {
        "id": "B45IbC2uil2L",
        "outputId": "cfd5810f-90a1-4f2d-e4cf-4acd0b920a79"
      },
      "outputs": [
        {
          "name": "stdout",
          "output_type": "stream",
          "text": [
            "Elements at 2nd, 4th, and 9th index are: [ 4  8 18]\n"
          ]
        }
      ],
      "source": [
        "print(\"Elements at 2nd, 4th, and 9th index are:\", arr[[2,4,9]]) # Pass a list as a index to subset"
      ]
    },
    {
      "cell_type": "code",
      "execution_count": null,
      "metadata": {
        "id": "FKzKSQn1il2L",
        "outputId": "8df389f1-9043-476e-cfa9-5e5490a435e2"
      },
      "outputs": [
        {
          "name": "stdout",
          "output_type": "stream",
          "text": [
            "Matrix of random 2-digit numbers\n",
            "--------------------------------\n",
            " [[35 75 44 59 85]\n",
            " [71 58 75 72 69]\n",
            " [76 97 49 63 53]]\n"
          ]
        },
        {
          "data": {
            "text/plain": [
              "array([[75, 59],\n",
              "       [58, 72],\n",
              "       [97, 63]])"
            ]
          },
          "execution_count": 237,
          "metadata": {},
          "output_type": "execute_result"
        }
      ],
      "source": [
        "import numpy as np\n",
        "mat = np.array(ri(10,100,15)).reshape(3,5)\n",
        "print(\"Matrix of random 2-digit numbers\\n--------------------------------\\n\",mat)\n",
        "mat[1:4,3:5]\n",
        "mat[0:3,[1,3]]"
      ]
    },
    {
      "cell_type": "code",
      "execution_count": null,
      "metadata": {
        "id": "NWMbfemmil2L",
        "outputId": "59b87ddc-f541-42f2-83f6-17be26c238dd"
      },
      "outputs": [
        {
          "data": {
            "text/plain": [
              "array([[35, 75, 44, 59, 85],\n",
              "       [71, 58, 75, 72, 69],\n",
              "       [76, 97, 49, 63, 53]])"
            ]
          },
          "execution_count": 238,
          "metadata": {},
          "output_type": "execute_result"
        }
      ],
      "source": [
        "mat[0:3,[1,3]]\n",
        "mat"
      ]
    },
    {
      "cell_type": "code",
      "execution_count": null,
      "metadata": {
        "id": "Hm0QGMqLil2M",
        "outputId": "abfafb05-18e8-4a10-9232-32f7617826c2"
      },
      "outputs": [
        {
          "name": "stdout",
          "output_type": "stream",
          "text": [
            "\n",
            "Double bracket indexing\n",
            "------------------------\n",
            "Element in row index 1 and column index 2: 58\n"
          ]
        },
        {
          "data": {
            "text/plain": [
              "array([[35, 75, 44, 59, 85],\n",
              "       [71, 58, 75, 72, 69],\n",
              "       [76, 97, 49, 63, 53]])"
            ]
          },
          "execution_count": 241,
          "metadata": {},
          "output_type": "execute_result"
        }
      ],
      "source": [
        "print(\"\\nDouble bracket indexing\\n------------------------\")\n",
        "print(\"Element in row index 1 and column index 2:\", mat[1][1])\n",
        "mat"
      ]
    },
    {
      "cell_type": "code",
      "execution_count": null,
      "metadata": {
        "id": "xM5B5S7-il2M",
        "outputId": "3211c7d0-57fb-4a6d-a287-527ba4cc7305"
      },
      "outputs": [
        {
          "name": "stdout",
          "output_type": "stream",
          "text": [
            "\n",
            "Single bracket with comma indexing\n",
            "----------------------------------\n",
            "Element in row index 1 and column index 2: 75\n",
            "\n",
            "Row or column extract\n",
            "----------------------\n"
          ]
        }
      ],
      "source": [
        "print(\"\\nSingle bracket with comma indexing\\n----------------------------------\")\n",
        "print(\"Element in row index 1 and column index 2:\", mat[1,2])\n",
        "print(\"\\nRow or column extract\\n----------------------\")\n"
      ]
    },
    {
      "cell_type": "code",
      "execution_count": null,
      "metadata": {
        "id": "_DhCKEpCil2M",
        "outputId": "bb14a9b8-e0d4-4ca7-cb9d-3d01fdb4d9e7"
      },
      "outputs": [
        {
          "name": "stdout",
          "output_type": "stream",
          "text": [
            "Entire row at index 2: [22 10 57 59 61]\n",
            "Entire column at index 3: [92 88 59]\n"
          ]
        }
      ],
      "source": [
        "print(\"Entire row at index 2:\", mat[2])\n",
        "print(\"Entire column at index 3:\", mat[:,3])\n"
      ]
    },
    {
      "cell_type": "code",
      "execution_count": null,
      "metadata": {
        "id": "aCRL7ikzil2M",
        "outputId": "ce655712-6acf-4204-fe7d-35320d234070"
      },
      "outputs": [
        {
          "name": "stdout",
          "output_type": "stream",
          "text": [
            "\n",
            "Subsetting sub-matrices\n",
            "--------------------------\n",
            "Matrix with row indices 1 and 2 and column indices 3 and 4\n",
            " [[14 32]\n",
            " [62 27]]\n"
          ]
        }
      ],
      "source": [
        "print(\"\\nSubsetting sub-matrices\\n--------------------------\")\n",
        "print(\"Matrix with row indices 1 and 2 and column indices 3 and 4\\n\", mat[1:3,3:5])\n"
      ]
    },
    {
      "cell_type": "code",
      "execution_count": null,
      "metadata": {
        "id": "Kc2QP1NOil2M",
        "outputId": "731b5437-cf1a-4703-a894-96f7051eb9cc"
      },
      "outputs": [
        {
          "name": "stdout",
          "output_type": "stream",
          "text": [
            "Matrix with row indices 0 and 1 and column indices 1 and 3\n",
            " [[77 69]\n",
            " [64 17]]\n"
          ]
        }
      ],
      "source": [
        "print(\"Matrix with row indices 0 and 1 and column indices 1 and 3\\n\", mat[0:2,[1,3]])"
      ]
    },
    {
      "cell_type": "markdown",
      "metadata": {
        "id": "5ZPpuBLIil2M"
      },
      "source": [
        "# Subseting"
      ]
    },
    {
      "cell_type": "code",
      "execution_count": null,
      "metadata": {
        "id": "ps3qzLGKil2M",
        "outputId": "8d83b27d-680d-42c2-a0d1-e88da3095b83"
      },
      "outputs": [
        {
          "name": "stdout",
          "output_type": "stream",
          "text": [
            "Matrix of random 2-digit numbers\n",
            "--------------------------------\n",
            " [[51 99 67 32 43]\n",
            " [53 61 80 97 51]\n",
            " [82 76 18 26 11]]\n"
          ]
        },
        {
          "data": {
            "text/plain": [
              "array([[ True,  True,  True, False, False],\n",
              "       [ True,  True,  True,  True,  True],\n",
              "       [ True,  True, False, False, False]])"
            ]
          },
          "execution_count": 173,
          "metadata": {},
          "output_type": "execute_result"
        }
      ],
      "source": [
        "mat = np.array(ri(10,100,15)).reshape(3,5)\n",
        "print(\"Matrix of random 2-digit numbers\\n--------------------------------\\n\",mat)\n",
        "mat>50"
      ]
    },
    {
      "cell_type": "code",
      "execution_count": null,
      "metadata": {
        "id": "XN6wa3XGil2M",
        "outputId": "42435103-f40c-46d8-96e9-0447948b1d70"
      },
      "outputs": [
        {
          "name": "stdout",
          "output_type": "stream",
          "text": [
            "Elements greater than 50\n",
            " [51 99 67 53 61 80 97 51 82 76]\n"
          ]
        }
      ],
      "source": [
        "print (\"Elements greater than 50\\n\", mat[mat>50])"
      ]
    },
    {
      "cell_type": "markdown",
      "metadata": {
        "id": "qYeXoSHwil2M"
      },
      "source": [
        "# Slicing"
      ]
    },
    {
      "cell_type": "code",
      "execution_count": null,
      "metadata": {
        "id": "SDuXhIjUil2M",
        "outputId": "d698b8e2-12fa-4c5f-b8cb-524f6ada4818"
      },
      "outputs": [
        {
          "name": "stdout",
          "output_type": "stream",
          "text": [
            "Original matrix\n",
            "[[11 12 13]\n",
            " [21 22 23]\n",
            " [31 32 33]]\n"
          ]
        }
      ],
      "source": [
        "mat = np.array([[11,12,13],[21,22,23],[31,32,33]])\n",
        "print(\"Original matrix\")\n",
        "print(mat)\n"
      ]
    },
    {
      "cell_type": "code",
      "execution_count": null,
      "metadata": {
        "id": "g3QnayWFil2M",
        "outputId": "3bf72697-ea22-4072-d07c-cf3858fb104a"
      },
      "outputs": [
        {
          "name": "stdout",
          "output_type": "stream",
          "text": [
            "\n",
            "Sliced matrix\n",
            "[[11 12]\n",
            " [21 22]]\n",
            "\n",
            "Change the sliced matrix\n"
          ]
        }
      ],
      "source": [
        "mat_slice = mat[:2,:2]\n",
        "print (\"\\nSliced matrix\")\n",
        "print(mat_slice)\n",
        "print (\"\\nChange the sliced matrix\")"
      ]
    },
    {
      "cell_type": "code",
      "execution_count": null,
      "metadata": {
        "id": "sO5J5VkKil2N",
        "outputId": "6f5df99b-ca61-43ae-9521-77b8df4c6231"
      },
      "outputs": [
        {
          "name": "stdout",
          "output_type": "stream",
          "text": [
            "[[1000   12]\n",
            " [  21   22]]\n"
          ]
        }
      ],
      "source": [
        "mat_slice[0,0] = 1000\n",
        "print (mat_slice)"
      ]
    },
    {
      "cell_type": "code",
      "execution_count": null,
      "metadata": {
        "id": "3bS5PX8Zil2N",
        "outputId": "654a2b26-16ff-4e1e-bc07-684ce8d73244"
      },
      "outputs": [
        {
          "name": "stdout",
          "output_type": "stream",
          "text": [
            "\n",
            "But the original matrix? WHOA! It got changed too!\n",
            "[[11 12 13]\n",
            " [21 22 23]\n",
            " [31 32 33]]\n"
          ]
        }
      ],
      "source": [
        "print(\"\\nBut the original matrix? WHOA! It got changed too!\")\n",
        "print(mat)\n"
      ]
    },
    {
      "cell_type": "code",
      "execution_count": null,
      "metadata": {
        "id": "FiTbNCtlil2N",
        "outputId": "e7ac9a45-1516-4983-ebbd-376f7f95cd84"
      },
      "outputs": [
        {
          "name": "stdout",
          "output_type": "stream",
          "text": [
            "\n",
            "Doing it again little differently now...\n",
            "\n",
            "Original matrix\n",
            "[[11 12 13]\n",
            " [21 22 23]\n",
            " [31 32 33]]\n"
          ]
        }
      ],
      "source": [
        "# Little different way to create a copy of the slixed matrix\n",
        "print (\"\\nDoing it again little differently now...\\n\")\n",
        "mat = np.array([[11,12,13],[21,22,23],[31,32,33]])\n",
        "print(\"Original matrix\")\n",
        "print(mat)\n"
      ]
    },
    {
      "cell_type": "code",
      "execution_count": null,
      "metadata": {
        "id": "jHnyNdo_il2N",
        "outputId": "ad0010bb-6018-4269-d2ae-adcc1503123e"
      },
      "outputs": [
        {
          "name": "stdout",
          "output_type": "stream",
          "text": [
            "\n",
            "Sliced matrix\n",
            "[[11 12]\n",
            " [21 22]]\n"
          ]
        }
      ],
      "source": [
        "mat_slice = np.array(mat[:2,:2]) # Notice the np.array command to create a new array not just slicing\n",
        "print (\"\\nSliced matrix\")\n",
        "print(mat_slice)\n"
      ]
    },
    {
      "cell_type": "code",
      "execution_count": null,
      "metadata": {
        "id": "TfuKb25Til2N",
        "outputId": "f5865945-d253-46a0-bc34-00d7676d187b"
      },
      "outputs": [
        {
          "name": "stdout",
          "output_type": "stream",
          "text": [
            "\n",
            "Change the sliced matrix\n",
            "[[1000   12]\n",
            " [  21   22]]\n"
          ]
        }
      ],
      "source": [
        "print (\"\\nChange the sliced matrix\")\n",
        "mat_slice[0,0] = 1000\n",
        "print (mat_slice)\n"
      ]
    },
    {
      "cell_type": "code",
      "execution_count": null,
      "metadata": {
        "id": "SRFEgl4vil2N",
        "outputId": "b39679ce-02ae-4d1f-d58d-edb028711808"
      },
      "outputs": [
        {
          "name": "stdout",
          "output_type": "stream",
          "text": [
            "\n",
            "But the original matrix? NO CHANGE this time:)\n",
            "[[11 12 13]\n",
            " [21 22 23]\n",
            " [31 32 33]]\n"
          ]
        }
      ],
      "source": [
        "print(\"\\nBut the original matrix? NO CHANGE this time:)\")\n",
        "print(mat)"
      ]
    },
    {
      "cell_type": "markdown",
      "metadata": {
        "id": "dEjkOEzSil2N"
      },
      "source": [
        "# Universal Functions"
      ]
    },
    {
      "cell_type": "code",
      "execution_count": null,
      "metadata": {
        "id": "pFSSYVTDil2N",
        "outputId": "67be1f91-e31e-45e0-8d1b-0646a3b65780"
      },
      "outputs": [
        {
          "name": "stdout",
          "output_type": "stream",
          "text": [
            "\n",
            "1st Matrix of random single-digit numbers\n",
            "----------------------------------------\n",
            " [[3 3 9]\n",
            " [6 1 8]\n",
            " [5 9 1]]\n",
            "\n",
            "2nd Matrix of random single-digit numbers\n",
            "----------------------------------------\n",
            " [[3 5 7]\n",
            " [4 4 9]\n",
            " [1 2 5]]\n"
          ]
        }
      ],
      "source": [
        "mat1 = np.array(ri(1,10,9)).reshape(3,3)\n",
        "mat2 = np.array(ri(1,10,9)).reshape(3,3)\n",
        "print(\"\\n1st Matrix of random single-digit numbers\\n----------------------------------------\\n\",mat1)\n",
        "print(\"\\n2nd Matrix of random single-digit numbers\\n----------------------------------------\\n\",mat2)\n"
      ]
    },
    {
      "cell_type": "code",
      "execution_count": null,
      "metadata": {
        "id": "RJfLWjdQil2N",
        "outputId": "969dfaec-bb4d-44fe-9ae6-8b9a85635af5"
      },
      "outputs": [
        {
          "data": {
            "text/plain": [
              "array([[ 9, 15, 63],\n",
              "       [24,  4, 72],\n",
              "       [ 5, 18,  5]])"
            ]
          },
          "execution_count": 248,
          "metadata": {},
          "output_type": "execute_result"
        }
      ],
      "source": [
        "mat1*mat2"
      ]
    },
    {
      "cell_type": "code",
      "execution_count": null,
      "metadata": {
        "id": "mg8H-9dfil2O"
      },
      "outputs": [],
      "source": []
    },
    {
      "cell_type": "code",
      "execution_count": null,
      "metadata": {
        "id": "sCuWszExil2O",
        "outputId": "e4afc443-2b87-4a72-bb1d-2283d9b53165"
      },
      "outputs": [
        {
          "name": "stdout",
          "output_type": "stream",
          "text": [
            "\n",
            "Multiplication\n",
            "------------------\n",
            " [[ 30  45  93]\n",
            " [ 30  50  91]\n",
            " [ 52  63 121]]\n"
          ]
        }
      ],
      "source": [
        "#print(\"\\nAddition\\n------------------\\n\", mat1+mat2)\n",
        "print(\"\\nMultiplication\\n------------------\\n\", mat1@mat2)\n"
      ]
    },
    {
      "cell_type": "code",
      "execution_count": null,
      "metadata": {
        "id": "7lhzbWOeil2O",
        "outputId": "864478f8-af59-4d26-86c1-94d292e3f7ee"
      },
      "outputs": [
        {
          "name": "stdout",
          "output_type": "stream",
          "text": [
            "\n",
            "Division\n",
            "------------------\n",
            " [[inf inf inf]\n",
            " [inf inf inf]\n",
            " [inf inf inf]]\n"
          ]
        },
        {
          "name": "stderr",
          "output_type": "stream",
          "text": [
            "/Users/sudhanshukumar/anaconda3/lib/python3.7/site-packages/ipykernel_launcher.py:1: RuntimeWarning: divide by zero encountered in true_divide\n",
            "  \"\"\"Entry point for launching an IPython kernel.\n"
          ]
        }
      ],
      "source": [
        "print(\"\\nDivision\\n------------------\\n\", mat1/0)\n",
        "#print(\"\\nLineaer combination: 3*A - 2*B\\n-----------------------------\\n\", 3*mat1-2*mat2)\n"
      ]
    },
    {
      "cell_type": "code",
      "execution_count": null,
      "metadata": {
        "id": "qGJ6fplwil2O",
        "outputId": "794a2931-2f31-4390-9a3f-edbce380eefc"
      },
      "outputs": [
        {
          "name": "stdout",
          "output_type": "stream",
          "text": [
            "\n",
            "Addition of a scalar (100)\n",
            "-------------------------\n",
            " [[103 103 109]\n",
            " [106 101 108]\n",
            " [105 109 101]]\n"
          ]
        }
      ],
      "source": [
        "print(\"\\nAddition of a scalar (100)\\n-------------------------\\n\", 100+mat1)\n"
      ]
    },
    {
      "cell_type": "code",
      "execution_count": null,
      "metadata": {
        "id": "VRLxdlr1il2P",
        "outputId": "992ed38b-ea19-4de2-80d1-facde70bd587"
      },
      "outputs": [
        {
          "name": "stdout",
          "output_type": "stream",
          "text": [
            "\n",
            "Exponentiation, matrix cubed here\n",
            "----------------------------------------\n",
            " [[ 27  27 729]\n",
            " [216   1 512]\n",
            " [125 729   1]]\n",
            "\n",
            "Exponentiation, sq-root using pow function\n",
            "-------------------------------------------\n",
            " [[ 27  27 729]\n",
            " [216   1 512]\n",
            " [125 729   1]]\n"
          ]
        }
      ],
      "source": [
        "print(\"\\nExponentiation, matrix cubed here\\n----------------------------------------\\n\", mat1**3)\n",
        "print(\"\\nExponentiation, sq-root using pow function\\n-------------------------------------------\\n\",pow(mat1,3))"
      ]
    },
    {
      "cell_type": "markdown",
      "metadata": {
        "id": "IPc8HnI_il2P"
      },
      "source": [
        "# Broadcasting"
      ]
    },
    {
      "cell_type": "code",
      "execution_count": null,
      "metadata": {
        "collapsed": true,
        "id": "UxnOhjhjil2Q"
      },
      "outputs": [],
      "source": [
        "#NumPy operations are usually done on pairs of arrays on an element-by-element basis.\n",
        "#In the simplest case, the two arrays must have exactly the same shape.\n",
        "#NumPy’s broadcasting rule relaxes this constraint when the arrays’ shapes meet certain constraints.\n",
        "#When operating on two arrays, NumPy compares their shapes element-wise. It starts with the trailing\n",
        "#dimensions, and works its way forward. Two dimensions are compatible when\n",
        "#they are equal, or one of them is 1"
      ]
    },
    {
      "cell_type": "code",
      "execution_count": null,
      "metadata": {
        "id": "5NZwh-zvil2Q",
        "outputId": "cb56f93a-87c2-44e3-e0aa-77172b95e8a7"
      },
      "outputs": [
        {
          "data": {
            "text/plain": [
              "array([[100., 100., 100., 100.],\n",
              "       [100., 100., 100., 100.],\n",
              "       [100., 100., 100., 100.],\n",
              "       [100., 100., 100., 100.]])"
            ]
          },
          "execution_count": 254,
          "metadata": {},
          "output_type": "execute_result"
        }
      ],
      "source": [
        "start = np.zeros((4,4))\n",
        "start= start+100\n",
        "start"
      ]
    },
    {
      "cell_type": "code",
      "execution_count": null,
      "metadata": {
        "id": "SLe7nqdvil2R",
        "outputId": "b0be54d4-6b5e-472b-ea63-b0b10ce870b5"
      },
      "outputs": [
        {
          "name": "stdout",
          "output_type": "stream",
          "text": [
            "[1 0 2 5]\n"
          ]
        }
      ],
      "source": [
        "# create a rank 1 ndarray with 3 values\n",
        "add_rows = np.array([1, 0, 2,5])\n",
        "print(add_rows)"
      ]
    },
    {
      "cell_type": "code",
      "execution_count": null,
      "metadata": {
        "id": "dbXi7erlil2R",
        "outputId": "f5aa22e1-4e27-4e98-b518-7c98148464af"
      },
      "outputs": [
        {
          "name": "stdout",
          "output_type": "stream",
          "text": [
            "[[101. 100. 102. 105.]\n",
            " [101. 100. 102. 105.]\n",
            " [101. 100. 102. 105.]\n",
            " [101. 100. 102. 105.]]\n"
          ]
        }
      ],
      "source": [
        "y = start + add_rows  # add to each row of 'start' using broadcasting\n",
        "print(y)"
      ]
    },
    {
      "cell_type": "code",
      "execution_count": null,
      "metadata": {
        "id": "nQNHu98til2R",
        "outputId": "e2613dc2-c5cd-4626-9504-4853f239094c"
      },
      "outputs": [
        {
          "name": "stdout",
          "output_type": "stream",
          "text": [
            "[[0]\n",
            " [1]\n",
            " [2]\n",
            " [3]]\n"
          ]
        }
      ],
      "source": [
        "# create an ndarray which is 4 x 1 to broadcast across columns\n",
        "add_cols = np.array([[0,1,2,3]])\n",
        "add_cols = add_cols.T\n",
        "print(add_cols)"
      ]
    },
    {
      "cell_type": "code",
      "execution_count": null,
      "metadata": {
        "id": "73q9xY-oil2R",
        "outputId": "f8dba25f-961f-48ad-ce3e-22b2f0abd791"
      },
      "outputs": [
        {
          "name": "stdout",
          "output_type": "stream",
          "text": [
            "[[100. 100. 100. 100.]\n",
            " [101. 101. 101. 101.]\n",
            " [102. 102. 102. 102.]\n",
            " [103. 103. 103. 103.]]\n"
          ]
        }
      ],
      "source": [
        "# add to each column of 'start' using broadcasting\n",
        "y = start + add_cols\n",
        "print(y)"
      ]
    },
    {
      "cell_type": "code",
      "execution_count": null,
      "metadata": {
        "id": "SgN8lsfEil2R",
        "outputId": "c18df184-5840-4544-98dd-75c1adc49ff9"
      },
      "outputs": [
        {
          "name": "stdout",
          "output_type": "stream",
          "text": [
            "[[200. 200. 200. 200.]\n",
            " [201. 201. 201. 201.]\n",
            " [202. 202. 202. 202.]\n",
            " [203. 203. 203. 203.]]\n"
          ]
        }
      ],
      "source": [
        "# this will just broadcast in both dimensions\n",
        "add_scalar = np.array([100])\n",
        "print(start+y)"
      ]
    },
    {
      "cell_type": "markdown",
      "metadata": {
        "id": "rY7ait0pil2R"
      },
      "source": [
        "# Array Math"
      ]
    },
    {
      "cell_type": "code",
      "execution_count": null,
      "metadata": {
        "id": "MMTlKU3_il2R",
        "outputId": "a24a1fab-f7e6-49fb-de4b-4bd65dda1914"
      },
      "outputs": [
        {
          "name": "stdout",
          "output_type": "stream",
          "text": [
            "\n",
            "1st Matrix of random single-digit numbers\n",
            "\n",
            " [[9 5 4]\n",
            " [1 7 3]\n",
            " [8 3 5]]\n",
            "\n",
            "2nd Matrix of random single-digit numbers\n",
            "------------\n",
            " [[4 8 6]\n",
            " [7 6 8]\n",
            " [4 6 5]]\n"
          ]
        }
      ],
      "source": [
        "mat1 = np.array(ri(1,10,9)).reshape(3,3)\n",
        "mat2 = np.array(ri(1,10,9)).reshape(3,3)\n",
        "print(\"\\n1st Matrix of random single-digit numbers\\n\\n\",mat1)\n",
        "print(\"\\n2nd Matrix of random single-digit numbers\\n------------\\n\",mat2)\n"
      ]
    },
    {
      "cell_type": "code",
      "execution_count": null,
      "metadata": {
        "id": "z3BjiNO1il2S",
        "outputId": "679d71f4-e6ef-4766-da3b-0c4574eb466a"
      },
      "outputs": [
        {
          "name": "stdout",
          "output_type": "stream",
          "text": [
            "\n",
            "Sq-root of 1st matrix using np\n",
            "------------------\n",
            " [[3.         2.23606798 2.        ]\n",
            " [1.         2.64575131 1.73205081]\n",
            " [2.82842712 1.73205081 2.23606798]]\n"
          ]
        }
      ],
      "source": [
        "print(\"\\nSq-root of 1st matrix using np\\n------------------\\n\", np.sqrt(mat1))\n"
      ]
    },
    {
      "cell_type": "code",
      "execution_count": null,
      "metadata": {
        "id": "rrqeRl_qil2S",
        "outputId": "e655668a-c86a-4eb8-dc9c-62361d83a1b8"
      },
      "outputs": [
        {
          "name": "stdout",
          "output_type": "stream",
          "text": [
            "\n",
            "Exponential power of 1st matrix using np\n",
            " -------------------------------------------------- \n",
            " [[8.10308393e+03 1.48413159e+02 5.45981500e+01]\n",
            " [2.71828183e+00 1.09663316e+03 2.00855369e+01]\n",
            " [2.98095799e+03 2.00855369e+01 1.48413159e+02]]\n"
          ]
        }
      ],
      "source": [
        "print(\"\\nExponential power of 1st matrix using np\\n\",'-'*50,\"\\n\", np.exp(mat1))\n"
      ]
    },
    {
      "cell_type": "code",
      "execution_count": null,
      "metadata": {
        "id": "hiPKw-neil2S",
        "outputId": "35cab998-81ba-4d77-f99e-dc60a4a09c0e"
      },
      "outputs": [
        {
          "name": "stdout",
          "output_type": "stream",
          "text": [
            "\n",
            "10-base logarithm on 1st matrix using np\n",
            " -------------------------------------------------- \n",
            " [[0.95424251 0.69897    0.60205999]\n",
            " [0.         0.84509804 0.47712125]\n",
            " [0.90308999 0.47712125 0.69897   ]]\n",
            "[[9 5 4]\n",
            " [1 7 3]\n",
            " [8 3 5]]\n",
            "[[4 8 6]\n",
            " [7 6 8]\n",
            " [4 6 5]]\n"
          ]
        }
      ],
      "source": [
        "print(\"\\n10-base logarithm on 1st matrix using np\\n\",'-'*50,\"\\n\", np.log10(mat1))\n",
        "print(mat1)\n",
        "print(mat2)"
      ]
    },
    {
      "cell_type": "code",
      "execution_count": null,
      "metadata": {
        "id": "C1zcIab9il2S",
        "outputId": "d29aeed1-e8c9-40ee-93c0-130f267982de"
      },
      "outputs": [
        {
          "name": "stdout",
          "output_type": "stream",
          "text": [
            "\n",
            "Modulo reminder using np\n",
            " -------------------------------------------------- \n",
            " [[1 5 4]\n",
            " [1 1 3]\n",
            " [0 3 0]]\n"
          ]
        },
        {
          "data": {
            "text/plain": [
              "array([[1, 5, 4],\n",
              "       [1, 1, 3],\n",
              "       [0, 3, 0]])"
            ]
          },
          "execution_count": 270,
          "metadata": {},
          "output_type": "execute_result"
        }
      ],
      "source": [
        "print(\"\\nModulo reminder using np\\n\",'-'*50,\"\\n\", np.fmod(mat1,mat2))\n",
        "mat1%mat2"
      ]
    },
    {
      "cell_type": "code",
      "execution_count": null,
      "metadata": {
        "id": "pjNryDlBil2S",
        "outputId": "a78c1fce-3dfb-4849-9472-99b5080284f8"
      },
      "outputs": [
        {
          "name": "stdout",
          "output_type": "stream",
          "text": [
            "\n",
            "Combination of functions by shwoing exponetial decay of a sine wave\n",
            " ----------------------------------------------------------------------\n"
          ]
        }
      ],
      "source": [
        "print(\"\\nCombination of functions by shwoing exponetial decay of a sine wave\\n\",'-'*70)\n"
      ]
    },
    {
      "cell_type": "code",
      "execution_count": null,
      "metadata": {
        "id": "WA74LlXmil2S"
      },
      "outputs": [],
      "source": [
        "A = np.linspace(0,12*np.pi,1001)\n"
      ]
    },
    {
      "cell_type": "code",
      "execution_count": null,
      "metadata": {
        "id": "qXibXd4Fil2S",
        "outputId": "a3eb6b80-f0f9-413c-d8c6-91a77706a811"
      },
      "outputs": [
        {
          "data": {
            "text/plain": [
              "array([ 0.        ,  0.03769911,  0.07539822, ..., 37.62371362,\n",
              "       37.66141273, 37.69911184])"
            ]
          },
          "execution_count": 208,
          "metadata": {},
          "output_type": "execute_result"
        }
      ],
      "source": [
        "A"
      ]
    },
    {
      "cell_type": "code",
      "execution_count": null,
      "metadata": {
        "id": "SxxjiYjuil2S"
      },
      "outputs": [],
      "source": []
    }
  ],
  "metadata": {
    "kernelspec": {
      "display_name": "Python 3",
      "language": "python",
      "name": "python3"
    },
    "language_info": {
      "codemirror_mode": {
        "name": "ipython",
        "version": 3
      },
      "file_extension": ".py",
      "mimetype": "text/x-python",
      "name": "python",
      "nbconvert_exporter": "python",
      "pygments_lexer": "ipython3",
      "version": "3.7.1"
    },
    "colab": {
      "provenance": [],
      "include_colab_link": true
    }
  },
  "nbformat": 4,
  "nbformat_minor": 0
}